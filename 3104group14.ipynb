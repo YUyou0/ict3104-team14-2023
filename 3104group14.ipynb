{
 "cells": [
  {
   "cell_type": "code",
   "execution_count": null,
   "id": "2d0265ee",
   "metadata": {},
   "outputs": [],
   "source": [
    "from google.colab import files\n",
    "\n",
    "# Upload a video file\n",
    "uploaded = files.upload()"
   ]
  },
  {
   "cell_type": "code",
   "execution_count": null,
   "id": "1244b094",
   "metadata": {},
   "outputs": [],
   "source": [
    "create a video_folder and store uploaded video files"
   ]
  },
  {
   "cell_type": "code",
   "execution_count": null,
   "id": "6937da66",
   "metadata": {},
   "outputs": [],
   "source": [
    "import os\n",
    "import ipywidgets as widgets\n",
    "from IPython.display import display, HTML\n",
    "from base64 import b64encode\n",
    "from moviepy.editor import VideoFileClip\n",
    "\n",
    "# Get a list of video files in the folder\n",
    "video_folder = 'video_folder'\n",
    "\n",
    "# Accept only mp4 files\n",
    "video_files = [f for f in os.listdir(video_folder) if f.endswith('.mp4')]"
   ]
  },
  {
   "cell_type": "code",
   "execution_count": null,
   "id": "4cf8ef60",
   "metadata": {},
   "outputs": [],
   "source": [
    "# Add empty as the first item to represent no selection initially\n",
    "if video_files[0] != \"\":\n",
    "    video_files.insert(0, \"\")\n",
    "\n",
    "# Create a dropdown widget to select an item\n",
    "item_dropdown = widgets.Dropdown(options=video_files, description=\" \")  # hardcoded spacing\n",
    "\n",
    "# Define a function that will run based on the selected item\n",
    "def run_function(selected_item):\n",
    "    if selected_item != \"\":\n",
    "      print(\" \") # hardcoded spacing\n",
    "\n",
    "      # Construct the path to the selected video\n",
    "      video_path = os.path.join('video_folder', selected_item)\n",
    "\n",
    "      # Display the selected video using the display_video function\n",
    "      display(display_video(video_path, width=1080, height=640, autoplay=True, loop=True, controls=True))\n",
    "\n",
    "# Configure video display widget settings\n",
    "def display_video(video_path, width=640, height=360, autoplay=True, loop=True, controls=True):\n",
    "    video_file = open(video_path, \"rb\").read()\n",
    "    video_url = \"data:video/mp4;base64,\" + b64encode(video_file).decode()\n",
    "    video_tag = f'<video width=\"{width}\" height=\"{height}\" autoplay={\"autoplay\" if autoplay else \"\"} loop={\"loop\" if loop else \"\"} {\"controls\" if controls else \"\"}><source src=\"{video_url}\" type=\"video/mp4\"></video>'\n",
    "    return HTML(data=video_tag)"
   ]
  },
  {
   "cell_type": "code",
   "execution_count": null,
   "id": "f3218bed",
   "metadata": {},
   "outputs": [],
   "source": [
    "# function to get video duration\n",
    "def get_video_duration(video_path):\n",
    "    try:\n",
    "        video = VideoFileClip(video_path)\n",
    "        duration = video.duration\n",
    "        return duration\n",
    "    except Exception as e:\n",
    "        print(f\"Error: {e}\")\n",
    "        return None\n",
    "\n",
    "# Iterate through video files to collect information\n",
    "def collect_information():\n",
    "    for video_file in video_files:\n",
    "        if video_file != \"\":\n",
    "            video_path = os.path.join(video_folder, video_file)\n",
    "            file_size = os.path.getsize(video_path)\n",
    "            duration = get_video_duration(video_path)\n",
    "            if duration is not None:\n",
    "                print(f\"Filename: {video_file}\\t Size (bytes): {file_size} bytes\\t Duration (seconds): {duration} seconds\")\n",
    "            else:\n",
    "                print(f\"Unable to determine video duration for {video_file}\")"
   ]
  },
  {
   "cell_type": "markdown",
   "id": "a24559fa",
   "metadata": {},
   "source": [
    "display video output"
   ]
  },
  {
   "cell_type": "code",
   "execution_count": null,
   "id": "6a3ddef9",
   "metadata": {},
   "outputs": [],
   "source": [
    "# get basic information to display as list\n",
    "collect_information()\n",
    "print(\"Select a video to play: \")\n",
    "\n",
    "# Create an interactive widget that triggers the function when an item is selected\n",
    "item_dropdown.value = \"\" # hardcoded default setting\n",
    "interactive_widget = widgets.interactive(run_function, selected_item=item_dropdown)\n",
    "\n",
    "# Display the interactive widget\n",
    "display(interactive_widget)"
   ]
  }
 ],
 "metadata": {
  "kernelspec": {
   "display_name": "Python 3 (ipykernel)",
   "language": "python",
   "name": "python3"
  },
  "language_info": {
   "codemirror_mode": {
    "name": "ipython",
    "version": 3
   },
   "file_extension": ".py",
   "mimetype": "text/x-python",
   "name": "python",
   "nbconvert_exporter": "python",
   "pygments_lexer": "ipython3",
   "version": "3.10.5"
  }
 },
 "nbformat": 4,
 "nbformat_minor": 5
}
