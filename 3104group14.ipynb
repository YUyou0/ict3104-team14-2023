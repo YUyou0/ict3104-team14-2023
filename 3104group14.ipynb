{
  "nbformat": 4,
  "nbformat_minor": 0,
  "metadata": {
    "colab": {
      "provenance": []
    },
    "kernelspec": {
      "name": "python3",
      "display_name": "Python 3"
    },
    "language_info": {
      "name": "python"
    },
    "widgets": {
      "application/vnd.jupyter.widget-state+json": {
        "871d405e7f334d89ad67ba79a4cf42c8": {
          "model_module": "@jupyter-widgets/controls",
          "model_name": "DropdownModel",
          "model_module_version": "1.5.0",
          "state": {
            "_dom_classes": [],
            "_model_module": "@jupyter-widgets/controls",
            "_model_module_version": "1.5.0",
            "_model_name": "DropdownModel",
            "_options_labels": [
              "",
              "charades"
            ],
            "_view_count": null,
            "_view_module": "@jupyter-widgets/controls",
            "_view_module_version": "1.5.0",
            "_view_name": "DropdownView",
            "description": "Select a Folder:",
            "description_tooltip": null,
            "disabled": false,
            "index": 1,
            "layout": "IPY_MODEL_342aef78eb3a42c8a34b28dbae751b64",
            "style": "IPY_MODEL_c0bda9fd0fd646c19b12b9d26e03fee5"
          }
        },
        "342aef78eb3a42c8a34b28dbae751b64": {
          "model_module": "@jupyter-widgets/base",
          "model_name": "LayoutModel",
          "model_module_version": "1.2.0",
          "state": {
            "_model_module": "@jupyter-widgets/base",
            "_model_module_version": "1.2.0",
            "_model_name": "LayoutModel",
            "_view_count": null,
            "_view_module": "@jupyter-widgets/base",
            "_view_module_version": "1.2.0",
            "_view_name": "LayoutView",
            "align_content": null,
            "align_items": null,
            "align_self": null,
            "border": null,
            "bottom": null,
            "display": null,
            "flex": null,
            "flex_flow": null,
            "grid_area": null,
            "grid_auto_columns": null,
            "grid_auto_flow": null,
            "grid_auto_rows": null,
            "grid_column": null,
            "grid_gap": null,
            "grid_row": null,
            "grid_template_areas": null,
            "grid_template_columns": null,
            "grid_template_rows": null,
            "height": null,
            "justify_content": null,
            "justify_items": null,
            "left": null,
            "margin": null,
            "max_height": null,
            "max_width": null,
            "min_height": null,
            "min_width": null,
            "object_fit": null,
            "object_position": null,
            "order": null,
            "overflow": null,
            "overflow_x": null,
            "overflow_y": null,
            "padding": null,
            "right": null,
            "top": null,
            "visibility": null,
            "width": null
          }
        },
        "c0bda9fd0fd646c19b12b9d26e03fee5": {
          "model_module": "@jupyter-widgets/controls",
          "model_name": "DescriptionStyleModel",
          "model_module_version": "1.5.0",
          "state": {
            "_model_module": "@jupyter-widgets/controls",
            "_model_module_version": "1.5.0",
            "_model_name": "DescriptionStyleModel",
            "_view_count": null,
            "_view_module": "@jupyter-widgets/base",
            "_view_module_version": "1.2.0",
            "_view_name": "StyleView",
            "description_width": ""
          }
        },
        "b0e2e3ce75e94ecdb98b5dbb869de737": {
          "model_module": "@jupyter-widgets/controls",
          "model_name": "TextModel",
          "model_module_version": "1.5.0",
          "state": {
            "_dom_classes": [],
            "_model_module": "@jupyter-widgets/controls",
            "_model_module_version": "1.5.0",
            "_model_name": "TextModel",
            "_view_count": null,
            "_view_module": "@jupyter-widgets/controls",
            "_view_module_version": "1.5.0",
            "_view_name": "TextView",
            "continuous_update": true,
            "description": "Name Input:",
            "description_tooltip": null,
            "disabled": false,
            "layout": "IPY_MODEL_65b74d41d457423aa5cf8ca385668e99",
            "placeholder": "Enter new model name",
            "style": "IPY_MODEL_0d80202f98b84969a7a6b1b2ea38d509",
            "value": "naruto3"
          }
        },
        "65b74d41d457423aa5cf8ca385668e99": {
          "model_module": "@jupyter-widgets/base",
          "model_name": "LayoutModel",
          "model_module_version": "1.2.0",
          "state": {
            "_model_module": "@jupyter-widgets/base",
            "_model_module_version": "1.2.0",
            "_model_name": "LayoutModel",
            "_view_count": null,
            "_view_module": "@jupyter-widgets/base",
            "_view_module_version": "1.2.0",
            "_view_name": "LayoutView",
            "align_content": null,
            "align_items": null,
            "align_self": null,
            "border": null,
            "bottom": null,
            "display": null,
            "flex": null,
            "flex_flow": null,
            "grid_area": null,
            "grid_auto_columns": null,
            "grid_auto_flow": null,
            "grid_auto_rows": null,
            "grid_column": null,
            "grid_gap": null,
            "grid_row": null,
            "grid_template_areas": null,
            "grid_template_columns": null,
            "grid_template_rows": null,
            "height": null,
            "justify_content": null,
            "justify_items": null,
            "left": null,
            "margin": null,
            "max_height": null,
            "max_width": null,
            "min_height": null,
            "min_width": null,
            "object_fit": null,
            "object_position": null,
            "order": null,
            "overflow": null,
            "overflow_x": null,
            "overflow_y": null,
            "padding": null,
            "right": null,
            "top": null,
            "visibility": null,
            "width": null
          }
        },
        "0d80202f98b84969a7a6b1b2ea38d509": {
          "model_module": "@jupyter-widgets/controls",
          "model_name": "DescriptionStyleModel",
          "model_module_version": "1.5.0",
          "state": {
            "_model_module": "@jupyter-widgets/controls",
            "_model_module_version": "1.5.0",
            "_model_name": "DescriptionStyleModel",
            "_view_count": null,
            "_view_module": "@jupyter-widgets/base",
            "_view_module_version": "1.2.0",
            "_view_name": "StyleView",
            "description_width": ""
          }
        },
        "d26a383370ee40e3a72a21097530692e": {
          "model_module": "@jupyter-widgets/controls",
          "model_name": "ButtonModel",
          "model_module_version": "1.5.0",
          "state": {
            "_dom_classes": [],
            "_model_module": "@jupyter-widgets/controls",
            "_model_module_version": "1.5.0",
            "_model_name": "ButtonModel",
            "_view_count": null,
            "_view_module": "@jupyter-widgets/controls",
            "_view_module_version": "1.5.0",
            "_view_name": "ButtonView",
            "button_style": "",
            "description": "Submit",
            "disabled": false,
            "icon": "",
            "layout": "IPY_MODEL_d1d15216059f41e086816427823d7011",
            "style": "IPY_MODEL_353c14ac10f24e7aaa401795a7b69f65",
            "tooltip": ""
          }
        },
        "d1d15216059f41e086816427823d7011": {
          "model_module": "@jupyter-widgets/base",
          "model_name": "LayoutModel",
          "model_module_version": "1.2.0",
          "state": {
            "_model_module": "@jupyter-widgets/base",
            "_model_module_version": "1.2.0",
            "_model_name": "LayoutModel",
            "_view_count": null,
            "_view_module": "@jupyter-widgets/base",
            "_view_module_version": "1.2.0",
            "_view_name": "LayoutView",
            "align_content": null,
            "align_items": null,
            "align_self": null,
            "border": null,
            "bottom": null,
            "display": null,
            "flex": null,
            "flex_flow": null,
            "grid_area": null,
            "grid_auto_columns": null,
            "grid_auto_flow": null,
            "grid_auto_rows": null,
            "grid_column": null,
            "grid_gap": null,
            "grid_row": null,
            "grid_template_areas": null,
            "grid_template_columns": null,
            "grid_template_rows": null,
            "height": null,
            "justify_content": null,
            "justify_items": null,
            "left": null,
            "margin": null,
            "max_height": null,
            "max_width": null,
            "min_height": null,
            "min_width": null,
            "object_fit": null,
            "object_position": null,
            "order": null,
            "overflow": null,
            "overflow_x": null,
            "overflow_y": null,
            "padding": null,
            "right": null,
            "top": null,
            "visibility": null,
            "width": null
          }
        },
        "353c14ac10f24e7aaa401795a7b69f65": {
          "model_module": "@jupyter-widgets/controls",
          "model_name": "ButtonStyleModel",
          "model_module_version": "1.5.0",
          "state": {
            "_model_module": "@jupyter-widgets/controls",
            "_model_module_version": "1.5.0",
            "_model_name": "ButtonStyleModel",
            "_view_count": null,
            "_view_module": "@jupyter-widgets/base",
            "_view_module_version": "1.2.0",
            "_view_name": "StyleView",
            "button_color": null,
            "font_weight": ""
          }
        }
      }
    }
  },
  "cells": [
    {
      "cell_type": "code",
      "execution_count": 1,
      "metadata": {
        "colab": {
          "base_uri": "https://localhost:8080/"
        },
        "id": "xYNR4lMZy2PD",
        "outputId": "b34fa572-0591-4504-b004-63ba48fdacea"
      },
      "outputs": [
        {
          "output_type": "stream",
          "name": "stdout",
          "text": [
            "Cloning into 'ict3104-team14-2023'...\n",
            "remote: Enumerating objects: 68, done.\u001b[K\n",
            "remote: Counting objects: 100% (12/12), done.\u001b[K\n",
            "remote: Compressing objects: 100% (9/9), done.\u001b[K\n",
            "remote: Total 68 (delta 4), reused 9 (delta 3), pack-reused 56\u001b[K\n",
            "Receiving objects: 100% (68/68), 50.22 MiB | 45.63 MiB/s, done.\n",
            "Resolving deltas: 100% (14/14), done.\n"
          ]
        }
      ],
      "source": [
        "!git clone https://github.com/YUyou0/ict3104-team14-2023.git"
      ]
    },
    {
      "cell_type": "markdown",
      "source": [
        "# Select a dataset to be used for training"
      ],
      "metadata": {
        "id": "XiKi3Z_G9-WS"
      }
    },
    {
      "cell_type": "code",
      "source": [
        "# Function to list file names in a folder and store their paths in an array\n",
        "def list_file_names_and_paths(folder):\n",
        "    global file_paths\n",
        "    folder_path = os.path.join('/content/ict3104-team14-2023/input_videos', folder)\n",
        "    if os.path.isdir(folder_path):\n",
        "        file_paths = [os.path.join(folder_path, file) for file in os.listdir(folder_path)]\n",
        "        file_names = [os.path.basename(file) for file in file_paths]\n",
        "        print(f\"List of file names in '{folder}':\")\n",
        "        for file_name in file_names:\n",
        "            print(file_name)\n",
        "    else:\n",
        "        print(f\"'{folder}' is not a valid folder.\")\n",
        "\n",
        "# Create a dropdown widget with an empty default option\n",
        "folder_dropdown = widgets.Dropdown(\n",
        "    options=[''] + os.listdir('/content/ict3104-team14-2023/input_videos'),  # Include an empty option\n",
        "    description='Select a Folder:',\n",
        ")\n",
        "\n",
        "# Initialize the file_paths array\n",
        "file_paths = []\n",
        "\n",
        "# Define an event handler for the dropdown\n",
        "def on_dropdown_change(change):\n",
        "    selected_folder = change.new\n",
        "    list_file_names_and_paths(selected_folder)\n",
        "\n",
        "# Attach the event handler to the dropdown\n",
        "folder_dropdown.observe(on_dropdown_change, names='value')\n",
        "\n",
        "# Display the dropdown widget\n",
        "display(folder_dropdown)"
      ],
      "metadata": {
        "colab": {
          "base_uri": "https://localhost:8080/",
          "height": 267,
          "referenced_widgets": [
            "871d405e7f334d89ad67ba79a4cf42c8",
            "342aef78eb3a42c8a34b28dbae751b64",
            "c0bda9fd0fd646c19b12b9d26e03fee5"
          ]
        },
        "id": "Pgm-pGwW-CfU",
        "outputId": "19bb251a-d7cb-48cf-e608-be24e7e05a28"
      },
      "execution_count": 29,
      "outputs": [
        {
          "output_type": "display_data",
          "data": {
            "text/plain": [
              "Dropdown(description='Select a Folder:', options=('', 'charades'), value='')"
            ],
            "application/vnd.jupyter.widget-view+json": {
              "version_major": 2,
              "version_minor": 0,
              "model_id": "871d405e7f334d89ad67ba79a4cf42c8"
            }
          },
          "metadata": {}
        },
        {
          "output_type": "stream",
          "name": "stdout",
          "text": [
            "List of file names in 'charades':\n",
            "4GLAP.mp4\n",
            "5O0YS.mp4\n",
            "5D3X6.mp4\n",
            "3JJ7C.mp4\n",
            "2E8GU.mp4\n",
            "3IPI3.mp4\n",
            "8ASRQ.mp4\n",
            "0RJKT.mp4\n",
            "5EFQ7.mp4\n",
            "52CKM.mp4\n",
            "3LMTS.mp4\n"
          ]
        }
      ]
    },
    {
      "cell_type": "markdown",
      "source": [
        "# List of videos to be used for training"
      ],
      "metadata": {
        "id": "Rec2TteoB1HC"
      }
    },
    {
      "cell_type": "code",
      "source": [
        "print(file_paths)\n",
        "print(len(file_paths))"
      ],
      "metadata": {
        "colab": {
          "base_uri": "https://localhost:8080/"
        },
        "id": "zx-PFVg2B4lC",
        "outputId": "2376ae1a-7886-47b6-936c-26c50d4c4e6c"
      },
      "execution_count": 31,
      "outputs": [
        {
          "output_type": "stream",
          "name": "stdout",
          "text": [
            "['/content/ict3104-team14-2023/input_videos/charades/4GLAP.mp4', '/content/ict3104-team14-2023/input_videos/charades/5O0YS.mp4', '/content/ict3104-team14-2023/input_videos/charades/5D3X6.mp4', '/content/ict3104-team14-2023/input_videos/charades/3JJ7C.mp4', '/content/ict3104-team14-2023/input_videos/charades/2E8GU.mp4', '/content/ict3104-team14-2023/input_videos/charades/3IPI3.mp4', '/content/ict3104-team14-2023/input_videos/charades/8ASRQ.mp4', '/content/ict3104-team14-2023/input_videos/charades/0RJKT.mp4', '/content/ict3104-team14-2023/input_videos/charades/5EFQ7.mp4', '/content/ict3104-team14-2023/input_videos/charades/52CKM.mp4', '/content/ict3104-team14-2023/input_videos/charades/3LMTS.mp4']\n",
            "11\n"
          ]
        }
      ]
    },
    {
      "cell_type": "markdown",
      "source": [
        "# Input a name for this new model to be trained"
      ],
      "metadata": {
        "id": "OK_g8dttEr2V"
      }
    },
    {
      "cell_type": "code",
      "source": [
        "# Create a text input widget\n",
        "text_input = widgets.Text(\n",
        "    value='',  # Default value (you can set a default value if needed)\n",
        "    placeholder='Enter new model name',  # Placeholder text\n",
        "    description='Name Input:',  # Label for the input field\n",
        ")\n",
        "\n",
        "# Create a submit button\n",
        "submit_button = widgets.Button(\n",
        "    description='Submit',  # Label for the button\n",
        ")\n",
        "\n",
        "# Create a variable to store the user's input\n",
        "user_input_modelName = ''\n",
        "\n",
        "# Define a function to update the user_input variable when the submit button is clicked\n",
        "def on_submit_button_click(b):\n",
        "    global user_input_modelName\n",
        "    user_input_modelName = text_input.value\n",
        "    if user_input_modelName == \"\":\n",
        "      print(\"You have not created a name for this new model!\")\n",
        "    else:\n",
        "      print(\"New model name has been submitted\")\n",
        "    if user_input_modelName.isalnum():\n",
        "        print(f\"Model name accepted: {user_input_modelName}\")\n",
        "    else:\n",
        "        print(\"Invalid input. Please enter alphanumeric characters only (no spaces or special characters).\")\n",
        "\n",
        "# Attach the click event handler to the submit button\n",
        "submit_button.on_click(on_submit_button_click)\n",
        "\n",
        "# Display the widgets\n",
        "display(text_input, submit_button)"
      ],
      "metadata": {
        "colab": {
          "base_uri": "https://localhost:8080/",
          "height": 190,
          "referenced_widgets": [
            "b0e2e3ce75e94ecdb98b5dbb869de737",
            "65b74d41d457423aa5cf8ca385668e99",
            "0d80202f98b84969a7a6b1b2ea38d509",
            "d26a383370ee40e3a72a21097530692e",
            "d1d15216059f41e086816427823d7011",
            "353c14ac10f24e7aaa401795a7b69f65"
          ]
        },
        "id": "C_iCFusxEynp",
        "outputId": "9003a348-7a72-4cc1-d259-472e8020f437"
      },
      "execution_count": 38,
      "outputs": [
        {
          "output_type": "display_data",
          "data": {
            "text/plain": [
              "Text(value='', description='Name Input:', placeholder='Enter new model name')"
            ],
            "application/vnd.jupyter.widget-view+json": {
              "version_major": 2,
              "version_minor": 0,
              "model_id": "b0e2e3ce75e94ecdb98b5dbb869de737"
            }
          },
          "metadata": {}
        },
        {
          "output_type": "display_data",
          "data": {
            "text/plain": [
              "Button(description='Submit', style=ButtonStyle())"
            ],
            "application/vnd.jupyter.widget-view+json": {
              "version_major": 2,
              "version_minor": 0,
              "model_id": "d26a383370ee40e3a72a21097530692e"
            }
          },
          "metadata": {}
        },
        {
          "output_type": "stream",
          "name": "stdout",
          "text": [
            "New model name has been submitted\n",
            "Invalid input. Please enter alphanumeric characters only (no spaces or special characters).\n",
            "New model name has been submitted\n",
            "Model name accepted: naruto\n",
            "New model name has been submitted\n",
            "Model name accepted: naruto3\n"
          ]
        }
      ]
    },
    {
      "cell_type": "code",
      "source": [
        "print(user_input_modelName)"
      ],
      "metadata": {
        "colab": {
          "base_uri": "https://localhost:8080/"
        },
        "id": "epIPMXk3KTwm",
        "outputId": "056bb8f3-2f0d-4730-9711-1af7d699ba9c"
      },
      "execution_count": 40,
      "outputs": [
        {
          "output_type": "stream",
          "name": "stdout",
          "text": [
            "naruto3\n"
          ]
        }
      ]
    }
  ]
}