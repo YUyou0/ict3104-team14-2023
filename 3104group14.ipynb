{
  "nbformat": 4,
  "nbformat_minor": 0,
  "metadata": {
    "colab": {
      "provenance": []
    },
    "kernelspec": {
      "name": "python3",
      "display_name": "Python 3"
    },
    "language_info": {
      "name": "python"
    },
    "widgets": {
      "application/vnd.jupyter.widget-state+json": {
        "b066480e91664e11ae35aa6a912b6172": {
          "model_module": "@jupyter-widgets/controls",
          "model_name": "DropdownModel",
          "model_module_version": "1.5.0",
          "state": {
            "_dom_classes": [],
            "_model_module": "@jupyter-widgets/controls",
            "_model_module_version": "1.5.0",
            "_model_name": "DropdownModel",
            "_options_labels": [
              "",
              "charades"
            ],
            "_view_count": null,
            "_view_module": "@jupyter-widgets/controls",
            "_view_module_version": "1.5.0",
            "_view_name": "DropdownView",
            "description": "Select a Folder:",
            "description_tooltip": null,
            "disabled": false,
            "index": 1,
            "layout": "IPY_MODEL_1749e08278814233b1307cbe2bd34dda",
            "style": "IPY_MODEL_0ec4a2c6d0d34575bd92ab2c1880a2fe"
          }
        },
        "1749e08278814233b1307cbe2bd34dda": {
          "model_module": "@jupyter-widgets/base",
          "model_name": "LayoutModel",
          "model_module_version": "1.2.0",
          "state": {
            "_model_module": "@jupyter-widgets/base",
            "_model_module_version": "1.2.0",
            "_model_name": "LayoutModel",
            "_view_count": null,
            "_view_module": "@jupyter-widgets/base",
            "_view_module_version": "1.2.0",
            "_view_name": "LayoutView",
            "align_content": null,
            "align_items": null,
            "align_self": null,
            "border": null,
            "bottom": null,
            "display": null,
            "flex": null,
            "flex_flow": null,
            "grid_area": null,
            "grid_auto_columns": null,
            "grid_auto_flow": null,
            "grid_auto_rows": null,
            "grid_column": null,
            "grid_gap": null,
            "grid_row": null,
            "grid_template_areas": null,
            "grid_template_columns": null,
            "grid_template_rows": null,
            "height": null,
            "justify_content": null,
            "justify_items": null,
            "left": null,
            "margin": null,
            "max_height": null,
            "max_width": null,
            "min_height": null,
            "min_width": null,
            "object_fit": null,
            "object_position": null,
            "order": null,
            "overflow": null,
            "overflow_x": null,
            "overflow_y": null,
            "padding": null,
            "right": null,
            "top": null,
            "visibility": null,
            "width": null
          }
        },
        "0ec4a2c6d0d34575bd92ab2c1880a2fe": {
          "model_module": "@jupyter-widgets/controls",
          "model_name": "DescriptionStyleModel",
          "model_module_version": "1.5.0",
          "state": {
            "_model_module": "@jupyter-widgets/controls",
            "_model_module_version": "1.5.0",
            "_model_name": "DescriptionStyleModel",
            "_view_count": null,
            "_view_module": "@jupyter-widgets/base",
            "_view_module_version": "1.2.0",
            "_view_name": "StyleView",
            "description_width": ""
          }
        },
        "a5a73a9d21444f8187e391a3959b2b20": {
          "model_module": "@jupyter-widgets/controls",
          "model_name": "TextModel",
          "model_module_version": "1.5.0",
          "state": {
            "_dom_classes": [],
            "_model_module": "@jupyter-widgets/controls",
            "_model_module_version": "1.5.0",
            "_model_name": "TextModel",
            "_view_count": null,
            "_view_module": "@jupyter-widgets/controls",
            "_view_module_version": "1.5.0",
            "_view_name": "TextView",
            "continuous_update": true,
            "description": "Name Input:",
            "description_tooltip": null,
            "disabled": false,
            "layout": "IPY_MODEL_367b3fab9710480db8a118e8306134c9",
            "placeholder": "Enter new model name",
            "style": "IPY_MODEL_b1bc23ea7c0f4a869a88947e351fca12",
            "value": "raheem"
          }
        },
        "367b3fab9710480db8a118e8306134c9": {
          "model_module": "@jupyter-widgets/base",
          "model_name": "LayoutModel",
          "model_module_version": "1.2.0",
          "state": {
            "_model_module": "@jupyter-widgets/base",
            "_model_module_version": "1.2.0",
            "_model_name": "LayoutModel",
            "_view_count": null,
            "_view_module": "@jupyter-widgets/base",
            "_view_module_version": "1.2.0",
            "_view_name": "LayoutView",
            "align_content": null,
            "align_items": null,
            "align_self": null,
            "border": null,
            "bottom": null,
            "display": null,
            "flex": null,
            "flex_flow": null,
            "grid_area": null,
            "grid_auto_columns": null,
            "grid_auto_flow": null,
            "grid_auto_rows": null,
            "grid_column": null,
            "grid_gap": null,
            "grid_row": null,
            "grid_template_areas": null,
            "grid_template_columns": null,
            "grid_template_rows": null,
            "height": null,
            "justify_content": null,
            "justify_items": null,
            "left": null,
            "margin": null,
            "max_height": null,
            "max_width": null,
            "min_height": null,
            "min_width": null,
            "object_fit": null,
            "object_position": null,
            "order": null,
            "overflow": null,
            "overflow_x": null,
            "overflow_y": null,
            "padding": null,
            "right": null,
            "top": null,
            "visibility": null,
            "width": null
          }
        },
        "b1bc23ea7c0f4a869a88947e351fca12": {
          "model_module": "@jupyter-widgets/controls",
          "model_name": "DescriptionStyleModel",
          "model_module_version": "1.5.0",
          "state": {
            "_model_module": "@jupyter-widgets/controls",
            "_model_module_version": "1.5.0",
            "_model_name": "DescriptionStyleModel",
            "_view_count": null,
            "_view_module": "@jupyter-widgets/base",
            "_view_module_version": "1.2.0",
            "_view_name": "StyleView",
            "description_width": ""
          }
        },
        "fff14b8c16aa45c4a62a4d03b2965cd8": {
          "model_module": "@jupyter-widgets/controls",
          "model_name": "ButtonModel",
          "model_module_version": "1.5.0",
          "state": {
            "_dom_classes": [],
            "_model_module": "@jupyter-widgets/controls",
            "_model_module_version": "1.5.0",
            "_model_name": "ButtonModel",
            "_view_count": null,
            "_view_module": "@jupyter-widgets/controls",
            "_view_module_version": "1.5.0",
            "_view_name": "ButtonView",
            "button_style": "",
            "description": "Submit",
            "disabled": false,
            "icon": "",
            "layout": "IPY_MODEL_f8fddbbb1e2a4a41821d90e8d0ad712b",
            "style": "IPY_MODEL_366524859f26470db5c57843eb093fc5",
            "tooltip": ""
          }
        },
        "f8fddbbb1e2a4a41821d90e8d0ad712b": {
          "model_module": "@jupyter-widgets/base",
          "model_name": "LayoutModel",
          "model_module_version": "1.2.0",
          "state": {
            "_model_module": "@jupyter-widgets/base",
            "_model_module_version": "1.2.0",
            "_model_name": "LayoutModel",
            "_view_count": null,
            "_view_module": "@jupyter-widgets/base",
            "_view_module_version": "1.2.0",
            "_view_name": "LayoutView",
            "align_content": null,
            "align_items": null,
            "align_self": null,
            "border": null,
            "bottom": null,
            "display": null,
            "flex": null,
            "flex_flow": null,
            "grid_area": null,
            "grid_auto_columns": null,
            "grid_auto_flow": null,
            "grid_auto_rows": null,
            "grid_column": null,
            "grid_gap": null,
            "grid_row": null,
            "grid_template_areas": null,
            "grid_template_columns": null,
            "grid_template_rows": null,
            "height": null,
            "justify_content": null,
            "justify_items": null,
            "left": null,
            "margin": null,
            "max_height": null,
            "max_width": null,
            "min_height": null,
            "min_width": null,
            "object_fit": null,
            "object_position": null,
            "order": null,
            "overflow": null,
            "overflow_x": null,
            "overflow_y": null,
            "padding": null,
            "right": null,
            "top": null,
            "visibility": null,
            "width": null
          }
        },
        "366524859f26470db5c57843eb093fc5": {
          "model_module": "@jupyter-widgets/controls",
          "model_name": "ButtonStyleModel",
          "model_module_version": "1.5.0",
          "state": {
            "_model_module": "@jupyter-widgets/controls",
            "_model_module_version": "1.5.0",
            "_model_name": "ButtonStyleModel",
            "_view_count": null,
            "_view_module": "@jupyter-widgets/base",
            "_view_module_version": "1.2.0",
            "_view_name": "StyleView",
            "button_color": null,
            "font_weight": ""
          }
        },
        "06299151dacb479e92f86e86b6c65e07": {
          "model_module": "@jupyter-widgets/controls",
          "model_name": "TextModel",
          "model_module_version": "1.5.0",
          "state": {
            "_dom_classes": [],
            "_model_module": "@jupyter-widgets/controls",
            "_model_module_version": "1.5.0",
            "_model_name": "TextModel",
            "_view_count": null,
            "_view_module": "@jupyter-widgets/controls",
            "_view_module_version": "1.5.0",
            "_view_name": "TextView",
            "continuous_update": true,
            "description": "Batch Size:",
            "description_tooltip": null,
            "disabled": false,
            "layout": "IPY_MODEL_767a89c2c80447e49d4b3b25a3acb6d2",
            "placeholder": "Enter a whole number",
            "style": "IPY_MODEL_7df8737856aa40039c6cf3d7a90bf2ab",
            "value": "2"
          }
        },
        "767a89c2c80447e49d4b3b25a3acb6d2": {
          "model_module": "@jupyter-widgets/base",
          "model_name": "LayoutModel",
          "model_module_version": "1.2.0",
          "state": {
            "_model_module": "@jupyter-widgets/base",
            "_model_module_version": "1.2.0",
            "_model_name": "LayoutModel",
            "_view_count": null,
            "_view_module": "@jupyter-widgets/base",
            "_view_module_version": "1.2.0",
            "_view_name": "LayoutView",
            "align_content": null,
            "align_items": null,
            "align_self": null,
            "border": null,
            "bottom": null,
            "display": null,
            "flex": null,
            "flex_flow": null,
            "grid_area": null,
            "grid_auto_columns": null,
            "grid_auto_flow": null,
            "grid_auto_rows": null,
            "grid_column": null,
            "grid_gap": null,
            "grid_row": null,
            "grid_template_areas": null,
            "grid_template_columns": null,
            "grid_template_rows": null,
            "height": null,
            "justify_content": null,
            "justify_items": null,
            "left": null,
            "margin": null,
            "max_height": null,
            "max_width": null,
            "min_height": null,
            "min_width": null,
            "object_fit": null,
            "object_position": null,
            "order": null,
            "overflow": null,
            "overflow_x": null,
            "overflow_y": null,
            "padding": null,
            "right": null,
            "top": null,
            "visibility": null,
            "width": null
          }
        },
        "7df8737856aa40039c6cf3d7a90bf2ab": {
          "model_module": "@jupyter-widgets/controls",
          "model_name": "DescriptionStyleModel",
          "model_module_version": "1.5.0",
          "state": {
            "_model_module": "@jupyter-widgets/controls",
            "_model_module_version": "1.5.0",
            "_model_name": "DescriptionStyleModel",
            "_view_count": null,
            "_view_module": "@jupyter-widgets/base",
            "_view_module_version": "1.2.0",
            "_view_name": "StyleView",
            "description_width": ""
          }
        },
        "782ae857169a4ab299a749929ea110cf": {
          "model_module": "@jupyter-widgets/controls",
          "model_name": "ButtonModel",
          "model_module_version": "1.5.0",
          "state": {
            "_dom_classes": [],
            "_model_module": "@jupyter-widgets/controls",
            "_model_module_version": "1.5.0",
            "_model_name": "ButtonModel",
            "_view_count": null,
            "_view_module": "@jupyter-widgets/controls",
            "_view_module_version": "1.5.0",
            "_view_name": "ButtonView",
            "button_style": "",
            "description": "Submit",
            "disabled": false,
            "icon": "",
            "layout": "IPY_MODEL_f6246971e9c7434da5750cb1a1fd2bdb",
            "style": "IPY_MODEL_ce548d482af14870986456e0ad493637",
            "tooltip": ""
          }
        },
        "f6246971e9c7434da5750cb1a1fd2bdb": {
          "model_module": "@jupyter-widgets/base",
          "model_name": "LayoutModel",
          "model_module_version": "1.2.0",
          "state": {
            "_model_module": "@jupyter-widgets/base",
            "_model_module_version": "1.2.0",
            "_model_name": "LayoutModel",
            "_view_count": null,
            "_view_module": "@jupyter-widgets/base",
            "_view_module_version": "1.2.0",
            "_view_name": "LayoutView",
            "align_content": null,
            "align_items": null,
            "align_self": null,
            "border": null,
            "bottom": null,
            "display": null,
            "flex": null,
            "flex_flow": null,
            "grid_area": null,
            "grid_auto_columns": null,
            "grid_auto_flow": null,
            "grid_auto_rows": null,
            "grid_column": null,
            "grid_gap": null,
            "grid_row": null,
            "grid_template_areas": null,
            "grid_template_columns": null,
            "grid_template_rows": null,
            "height": null,
            "justify_content": null,
            "justify_items": null,
            "left": null,
            "margin": null,
            "max_height": null,
            "max_width": null,
            "min_height": null,
            "min_width": null,
            "object_fit": null,
            "object_position": null,
            "order": null,
            "overflow": null,
            "overflow_x": null,
            "overflow_y": null,
            "padding": null,
            "right": null,
            "top": null,
            "visibility": null,
            "width": null
          }
        },
        "ce548d482af14870986456e0ad493637": {
          "model_module": "@jupyter-widgets/controls",
          "model_name": "ButtonStyleModel",
          "model_module_version": "1.5.0",
          "state": {
            "_model_module": "@jupyter-widgets/controls",
            "_model_module_version": "1.5.0",
            "_model_name": "ButtonStyleModel",
            "_view_count": null,
            "_view_module": "@jupyter-widgets/base",
            "_view_module_version": "1.2.0",
            "_view_name": "StyleView",
            "button_color": null,
            "font_weight": ""
          }
        },
        "e14b8767770f4412b04a9d8a4220c3c1": {
          "model_module": "@jupyter-widgets/controls",
          "model_name": "TextModel",
          "model_module_version": "1.5.0",
          "state": {
            "_dom_classes": [],
            "_model_module": "@jupyter-widgets/controls",
            "_model_module_version": "1.5.0",
            "_model_name": "TextModel",
            "_view_count": null,
            "_view_module": "@jupyter-widgets/controls",
            "_view_module_version": "1.5.0",
            "_view_name": "TextView",
            "continuous_update": true,
            "description": "Epochs:",
            "description_tooltip": null,
            "disabled": false,
            "layout": "IPY_MODEL_e2c5fb2ce9be45f49aab9ed3fd951910",
            "placeholder": "Enter a whole number",
            "style": "IPY_MODEL_1b668a21a5364000a42c1a8fabdb5e85",
            "value": "5"
          }
        },
        "e2c5fb2ce9be45f49aab9ed3fd951910": {
          "model_module": "@jupyter-widgets/base",
          "model_name": "LayoutModel",
          "model_module_version": "1.2.0",
          "state": {
            "_model_module": "@jupyter-widgets/base",
            "_model_module_version": "1.2.0",
            "_model_name": "LayoutModel",
            "_view_count": null,
            "_view_module": "@jupyter-widgets/base",
            "_view_module_version": "1.2.0",
            "_view_name": "LayoutView",
            "align_content": null,
            "align_items": null,
            "align_self": null,
            "border": null,
            "bottom": null,
            "display": null,
            "flex": null,
            "flex_flow": null,
            "grid_area": null,
            "grid_auto_columns": null,
            "grid_auto_flow": null,
            "grid_auto_rows": null,
            "grid_column": null,
            "grid_gap": null,
            "grid_row": null,
            "grid_template_areas": null,
            "grid_template_columns": null,
            "grid_template_rows": null,
            "height": null,
            "justify_content": null,
            "justify_items": null,
            "left": null,
            "margin": null,
            "max_height": null,
            "max_width": null,
            "min_height": null,
            "min_width": null,
            "object_fit": null,
            "object_position": null,
            "order": null,
            "overflow": null,
            "overflow_x": null,
            "overflow_y": null,
            "padding": null,
            "right": null,
            "top": null,
            "visibility": null,
            "width": null
          }
        },
        "1b668a21a5364000a42c1a8fabdb5e85": {
          "model_module": "@jupyter-widgets/controls",
          "model_name": "DescriptionStyleModel",
          "model_module_version": "1.5.0",
          "state": {
            "_model_module": "@jupyter-widgets/controls",
            "_model_module_version": "1.5.0",
            "_model_name": "DescriptionStyleModel",
            "_view_count": null,
            "_view_module": "@jupyter-widgets/base",
            "_view_module_version": "1.2.0",
            "_view_name": "StyleView",
            "description_width": ""
          }
        },
        "a0494bdb1c1144e9a9290f6d1a6d66ce": {
          "model_module": "@jupyter-widgets/controls",
          "model_name": "ButtonModel",
          "model_module_version": "1.5.0",
          "state": {
            "_dom_classes": [],
            "_model_module": "@jupyter-widgets/controls",
            "_model_module_version": "1.5.0",
            "_model_name": "ButtonModel",
            "_view_count": null,
            "_view_module": "@jupyter-widgets/controls",
            "_view_module_version": "1.5.0",
            "_view_name": "ButtonView",
            "button_style": "",
            "description": "Submit",
            "disabled": false,
            "icon": "",
            "layout": "IPY_MODEL_fb2bead3b2364401ba2dd48098e5ed3a",
            "style": "IPY_MODEL_c664a06815204ac48c4a726322b95a95",
            "tooltip": ""
          }
        },
        "fb2bead3b2364401ba2dd48098e5ed3a": {
          "model_module": "@jupyter-widgets/base",
          "model_name": "LayoutModel",
          "model_module_version": "1.2.0",
          "state": {
            "_model_module": "@jupyter-widgets/base",
            "_model_module_version": "1.2.0",
            "_model_name": "LayoutModel",
            "_view_count": null,
            "_view_module": "@jupyter-widgets/base",
            "_view_module_version": "1.2.0",
            "_view_name": "LayoutView",
            "align_content": null,
            "align_items": null,
            "align_self": null,
            "border": null,
            "bottom": null,
            "display": null,
            "flex": null,
            "flex_flow": null,
            "grid_area": null,
            "grid_auto_columns": null,
            "grid_auto_flow": null,
            "grid_auto_rows": null,
            "grid_column": null,
            "grid_gap": null,
            "grid_row": null,
            "grid_template_areas": null,
            "grid_template_columns": null,
            "grid_template_rows": null,
            "height": null,
            "justify_content": null,
            "justify_items": null,
            "left": null,
            "margin": null,
            "max_height": null,
            "max_width": null,
            "min_height": null,
            "min_width": null,
            "object_fit": null,
            "object_position": null,
            "order": null,
            "overflow": null,
            "overflow_x": null,
            "overflow_y": null,
            "padding": null,
            "right": null,
            "top": null,
            "visibility": null,
            "width": null
          }
        },
        "c664a06815204ac48c4a726322b95a95": {
          "model_module": "@jupyter-widgets/controls",
          "model_name": "ButtonStyleModel",
          "model_module_version": "1.5.0",
          "state": {
            "_model_module": "@jupyter-widgets/controls",
            "_model_module_version": "1.5.0",
            "_model_name": "ButtonStyleModel",
            "_view_count": null,
            "_view_module": "@jupyter-widgets/base",
            "_view_module_version": "1.2.0",
            "_view_name": "StyleView",
            "button_color": null,
            "font_weight": ""
          }
        }
      }
    }
  },
  "cells": [
    {
      "cell_type": "code",
      "execution_count": 2,
      "metadata": {
        "colab": {
          "base_uri": "https://localhost:8080/"
        },
        "id": "xYNR4lMZy2PD",
        "outputId": "9e88ceaa-807c-46fa-e301-15309a842191"
      },
      "outputs": [
        {
          "output_type": "stream",
          "name": "stdout",
          "text": [
            "Cloning into 'ict3104-team14-2023'...\n",
            "remote: Enumerating objects: 71, done.\u001b[K\n",
            "remote: Counting objects: 100% (15/15), done.\u001b[K\n",
            "remote: Compressing objects: 100% (12/12), done.\u001b[K\n",
            "remote: Total 71 (delta 4), reused 12 (delta 3), pack-reused 56\u001b[K\n",
            "Receiving objects: 100% (71/71), 50.22 MiB | 35.39 MiB/s, done.\n",
            "Resolving deltas: 100% (14/14), done.\n"
          ]
        }
      ],
      "source": [
        "!git clone https://github.com/YUyou0/ict3104-team14-2023.git"
      ]
    },
    {
      "cell_type": "markdown",
      "source": [
        "# Select a dataset to be used for training"
      ],
      "metadata": {
        "id": "XiKi3Z_G9-WS"
      }
    },
    {
      "cell_type": "code",
      "source": [
        "import os\n",
        "import ipywidgets as widgets\n",
        "from IPython.display import display\n",
        "\n",
        "# Function to list file names in a folder and store their paths in an array\n",
        "def list_file_names_and_paths(folder):\n",
        "    global file_paths\n",
        "    folder_path = os.path.join('/content/ict3104-team14-2023/input_videos', folder)\n",
        "    if os.path.isdir(folder_path):\n",
        "        file_paths = [os.path.join(folder_path, file) for file in os.listdir(folder_path)]\n",
        "        file_names = [os.path.basename(file) for file in file_paths]\n",
        "        print(f\"List of file names in '{folder}':\")\n",
        "        for file_name in file_names:\n",
        "            print(file_name)\n",
        "    else:\n",
        "        print(f\"'{folder}' is not a valid folder.\")\n",
        "\n",
        "# Create a dropdown widget with an empty default option\n",
        "folder_dropdown = widgets.Dropdown(\n",
        "    options=[''] + os.listdir('/content/ict3104-team14-2023/input_videos'),  # Include an empty option\n",
        "    description='Select a Folder:',\n",
        ")\n",
        "\n",
        "# Initialize the file_paths array\n",
        "file_paths = []\n",
        "\n",
        "# Define an event handler for the dropdown\n",
        "def on_dropdown_change(change):\n",
        "    selected_folder = change.new\n",
        "    list_file_names_and_paths(selected_folder)\n",
        "\n",
        "# Attach the event handler to the dropdown\n",
        "folder_dropdown.observe(on_dropdown_change, names='value')\n",
        "\n",
        "# Display the dropdown widget\n",
        "display(folder_dropdown)"
      ],
      "metadata": {
        "colab": {
          "base_uri": "https://localhost:8080/",
          "height": 267,
          "referenced_widgets": [
            "b066480e91664e11ae35aa6a912b6172",
            "1749e08278814233b1307cbe2bd34dda",
            "0ec4a2c6d0d34575bd92ab2c1880a2fe"
          ]
        },
        "id": "Pgm-pGwW-CfU",
        "outputId": "d7538a57-e5e6-4905-b48f-b6b8156d0632"
      },
      "execution_count": 7,
      "outputs": [
        {
          "output_type": "display_data",
          "data": {
            "text/plain": [
              "Dropdown(description='Select a Folder:', options=('', 'charades'), value='')"
            ],
            "application/vnd.jupyter.widget-view+json": {
              "version_major": 2,
              "version_minor": 0,
              "model_id": "b066480e91664e11ae35aa6a912b6172"
            }
          },
          "metadata": {}
        },
        {
          "output_type": "stream",
          "name": "stdout",
          "text": [
            "List of file names in 'charades':\n",
            "4GLAP.mp4\n",
            "5O0YS.mp4\n",
            "5D3X6.mp4\n",
            "3JJ7C.mp4\n",
            "2E8GU.mp4\n",
            "3IPI3.mp4\n",
            "8ASRQ.mp4\n",
            "0RJKT.mp4\n",
            "5EFQ7.mp4\n",
            "52CKM.mp4\n",
            "3LMTS.mp4\n"
          ]
        }
      ]
    },
    {
      "cell_type": "markdown",
      "source": [
        "# List of videos to be used for training"
      ],
      "metadata": {
        "id": "Rec2TteoB1HC"
      }
    },
    {
      "cell_type": "code",
      "source": [
        "print(file_paths)\n",
        "print(len(file_paths))"
      ],
      "metadata": {
        "colab": {
          "base_uri": "https://localhost:8080/"
        },
        "id": "zx-PFVg2B4lC",
        "outputId": "ecc290ce-80ca-4e6c-b0f6-7d3facac4a40"
      },
      "execution_count": 12,
      "outputs": [
        {
          "output_type": "stream",
          "name": "stdout",
          "text": [
            "['/content/ict3104-team14-2023/input_videos/charades/4GLAP.mp4', '/content/ict3104-team14-2023/input_videos/charades/5O0YS.mp4', '/content/ict3104-team14-2023/input_videos/charades/5D3X6.mp4', '/content/ict3104-team14-2023/input_videos/charades/3JJ7C.mp4', '/content/ict3104-team14-2023/input_videos/charades/2E8GU.mp4', '/content/ict3104-team14-2023/input_videos/charades/3IPI3.mp4', '/content/ict3104-team14-2023/input_videos/charades/8ASRQ.mp4', '/content/ict3104-team14-2023/input_videos/charades/0RJKT.mp4', '/content/ict3104-team14-2023/input_videos/charades/5EFQ7.mp4', '/content/ict3104-team14-2023/input_videos/charades/52CKM.mp4', '/content/ict3104-team14-2023/input_videos/charades/3LMTS.mp4']\n",
            "11\n"
          ]
        }
      ]
    },
    {
      "cell_type": "markdown",
      "source": [
        "# Input a name for this new model to be trained"
      ],
      "metadata": {
        "id": "OK_g8dttEr2V"
      }
    },
    {
      "cell_type": "code",
      "source": [
        "# Create a text input widget\n",
        "text_input = widgets.Text(\n",
        "    value='',  # Default value (you can set a default value if needed)\n",
        "    placeholder='Enter new model name',  # Placeholder text\n",
        "    description='Name Input:',  # Label for the input field\n",
        ")\n",
        "\n",
        "# Create a submit button\n",
        "submit_button = widgets.Button(\n",
        "    description='Submit',  # Label for the button\n",
        ")\n",
        "\n",
        "# Create a variable to store the user's input\n",
        "user_input_modelName = ''\n",
        "\n",
        "# Define a function to update the user_input variable when the submit button is clicked\n",
        "def on_submit_button_click(b):\n",
        "    global user_input_modelName\n",
        "    user_input_modelName = text_input.value\n",
        "    if user_input_modelName == \"\":\n",
        "      print(\"You have not created a name for this new model!\")\n",
        "    else:\n",
        "      print(\"New model name has been submitted\")\n",
        "    if user_input_modelName.isalnum():\n",
        "        print(f\"Model name accepted: {user_input_modelName}\")\n",
        "    else:\n",
        "        print(\"Invalid input. Please enter alphanumeric characters only (no spaces or special characters).\")\n",
        "\n",
        "# Attach the click event handler to the submit button\n",
        "submit_button.on_click(on_submit_button_click)\n",
        "\n",
        "# Display the widgets\n",
        "display(text_input, submit_button)"
      ],
      "metadata": {
        "colab": {
          "base_uri": "https://localhost:8080/",
          "height": 154,
          "referenced_widgets": [
            "a5a73a9d21444f8187e391a3959b2b20",
            "367b3fab9710480db8a118e8306134c9",
            "b1bc23ea7c0f4a869a88947e351fca12",
            "fff14b8c16aa45c4a62a4d03b2965cd8",
            "f8fddbbb1e2a4a41821d90e8d0ad712b",
            "366524859f26470db5c57843eb093fc5"
          ]
        },
        "id": "C_iCFusxEynp",
        "outputId": "2d28ebb1-b3bf-45a3-acd4-2f178dfb3d5e"
      },
      "execution_count": 19,
      "outputs": [
        {
          "output_type": "display_data",
          "data": {
            "text/plain": [
              "Text(value='', description='Name Input:', placeholder='Enter new model name')"
            ],
            "application/vnd.jupyter.widget-view+json": {
              "version_major": 2,
              "version_minor": 0,
              "model_id": "a5a73a9d21444f8187e391a3959b2b20"
            }
          },
          "metadata": {}
        },
        {
          "output_type": "display_data",
          "data": {
            "text/plain": [
              "Button(description='Submit', style=ButtonStyle())"
            ],
            "application/vnd.jupyter.widget-view+json": {
              "version_major": 2,
              "version_minor": 0,
              "model_id": "fff14b8c16aa45c4a62a4d03b2965cd8"
            }
          },
          "metadata": {}
        },
        {
          "output_type": "stream",
          "name": "stdout",
          "text": [
            "New model name has been submitted\n",
            "Invalid input. Please enter alphanumeric characters only (no spaces or special characters).\n",
            "New model name has been submitted\n",
            "Model name accepted: raheem\n"
          ]
        }
      ]
    },
    {
      "cell_type": "markdown",
      "source": [
        "# Verify the newly named model"
      ],
      "metadata": {
        "id": "hqQsPOzCSuuH"
      }
    },
    {
      "cell_type": "code",
      "source": [
        "print(user_input_modelName)"
      ],
      "metadata": {
        "colab": {
          "base_uri": "https://localhost:8080/"
        },
        "id": "epIPMXk3KTwm",
        "outputId": "00ed6403-6ad6-4a99-c52d-c1e055c4f285"
      },
      "execution_count": 14,
      "outputs": [
        {
          "output_type": "stream",
          "name": "stdout",
          "text": [
            "newModel\n"
          ]
        }
      ]
    },
    {
      "cell_type": "markdown",
      "source": [
        "# Input the batch size"
      ],
      "metadata": {
        "id": "rwUSyXVwS7J6"
      }
    },
    {
      "cell_type": "code",
      "source": [
        "# Function to handle the button click event\n",
        "def on_submit_button_click(b):\n",
        "    global user_input_batchSize\n",
        "    user_input_batchSize = text_input.value\n",
        "    # Check if the input is a valid whole number (integer)\n",
        "    if user_input_batchSize.isdigit():\n",
        "        print(f\"Batch size accepted: {user_input_batchSize}\")\n",
        "    else:\n",
        "        print(\"Invalid input. Please enter a whole number (no decimals).\")\n",
        "\n",
        "# Create a text input widget\n",
        "text_input = widgets.Text(\n",
        "    placeholder='Enter a whole number',\n",
        "    description='Batch Size:',\n",
        ")\n",
        "\n",
        "# Create a submit button\n",
        "submit_button = widgets.Button(\n",
        "    description='Submit',\n",
        ")\n",
        "submit_button.on_click(on_submit_button_click)\n",
        "\n",
        "# Display the input field and submit button\n",
        "display(text_input)\n",
        "display(submit_button)"
      ],
      "metadata": {
        "colab": {
          "base_uri": "https://localhost:8080/",
          "height": 99,
          "referenced_widgets": [
            "06299151dacb479e92f86e86b6c65e07",
            "767a89c2c80447e49d4b3b25a3acb6d2",
            "7df8737856aa40039c6cf3d7a90bf2ab",
            "782ae857169a4ab299a749929ea110cf",
            "f6246971e9c7434da5750cb1a1fd2bdb",
            "ce548d482af14870986456e0ad493637"
          ]
        },
        "id": "qYE4HSeMTyZs",
        "outputId": "e527a3b0-6c0f-41ad-fae8-7d7a59d176b2"
      },
      "execution_count": 20,
      "outputs": [
        {
          "output_type": "display_data",
          "data": {
            "text/plain": [
              "Text(value='', description='Batch Size:', placeholder='Enter a whole number')"
            ],
            "application/vnd.jupyter.widget-view+json": {
              "version_major": 2,
              "version_minor": 0,
              "model_id": "06299151dacb479e92f86e86b6c65e07"
            }
          },
          "metadata": {}
        },
        {
          "output_type": "display_data",
          "data": {
            "text/plain": [
              "Button(description='Submit', style=ButtonStyle())"
            ],
            "application/vnd.jupyter.widget-view+json": {
              "version_major": 2,
              "version_minor": 0,
              "model_id": "782ae857169a4ab299a749929ea110cf"
            }
          },
          "metadata": {}
        },
        {
          "output_type": "stream",
          "name": "stdout",
          "text": [
            "Batch size accepted: 2\n"
          ]
        }
      ]
    },
    {
      "cell_type": "markdown",
      "source": [
        "# Verify the batch size"
      ],
      "metadata": {
        "id": "gzYoDoOnVO6X"
      }
    },
    {
      "cell_type": "code",
      "source": [
        "print(user_input_batchSize)"
      ],
      "metadata": {
        "colab": {
          "base_uri": "https://localhost:8080/"
        },
        "id": "pIebKZIaVSIL",
        "outputId": "ea4d67e8-a4c0-4644-e064-74ef4f4ba3bb"
      },
      "execution_count": 21,
      "outputs": [
        {
          "output_type": "stream",
          "name": "stdout",
          "text": [
            "2\n"
          ]
        }
      ]
    },
    {
      "cell_type": "markdown",
      "source": [
        "# Set epochs value"
      ],
      "metadata": {
        "id": "fyOg17MUVk_s"
      }
    },
    {
      "cell_type": "code",
      "source": [
        "# Function to handle the button click event\n",
        "def on_submit_button_click(b):\n",
        "    global user_input_epoch\n",
        "    user_input_epoch = text_input.value\n",
        "    # Check if the input is a valid whole number (integer)\n",
        "    if user_input_epoch.isdigit():\n",
        "        print(f\"Epochs value accepted: {user_input_epoch}\")\n",
        "    else:\n",
        "        print(\"Invalid input. Please enter a whole number (no decimals).\")\n",
        "\n",
        "# Create a text input widget\n",
        "text_input = widgets.Text(\n",
        "    placeholder='Enter a whole number',\n",
        "    description='Epochs:',\n",
        ")\n",
        "\n",
        "# Create a submit button\n",
        "submit_button = widgets.Button(\n",
        "    description='Submit',\n",
        ")\n",
        "submit_button.on_click(on_submit_button_click)\n",
        "\n",
        "# Display the input field and submit button\n",
        "display(text_input)\n",
        "display(submit_button)"
      ],
      "metadata": {
        "colab": {
          "base_uri": "https://localhost:8080/",
          "height": 117,
          "referenced_widgets": [
            "e14b8767770f4412b04a9d8a4220c3c1",
            "e2c5fb2ce9be45f49aab9ed3fd951910",
            "1b668a21a5364000a42c1a8fabdb5e85",
            "a0494bdb1c1144e9a9290f6d1a6d66ce",
            "fb2bead3b2364401ba2dd48098e5ed3a",
            "c664a06815204ac48c4a726322b95a95"
          ]
        },
        "id": "M80OwZIRVqyk",
        "outputId": "698aac4c-2894-42ec-844f-57f49cfd5330"
      },
      "execution_count": 24,
      "outputs": [
        {
          "output_type": "display_data",
          "data": {
            "text/plain": [
              "Text(value='', description='Epochs:', placeholder='Enter a whole number')"
            ],
            "application/vnd.jupyter.widget-view+json": {
              "version_major": 2,
              "version_minor": 0,
              "model_id": "e14b8767770f4412b04a9d8a4220c3c1"
            }
          },
          "metadata": {}
        },
        {
          "output_type": "display_data",
          "data": {
            "text/plain": [
              "Button(description='Submit', style=ButtonStyle())"
            ],
            "application/vnd.jupyter.widget-view+json": {
              "version_major": 2,
              "version_minor": 0,
              "model_id": "a0494bdb1c1144e9a9290f6d1a6d66ce"
            }
          },
          "metadata": {}
        },
        {
          "output_type": "stream",
          "name": "stdout",
          "text": [
            "Invalid input. Please enter a whole number (no decimals).\n",
            "Epochs value accepted: 5\n"
          ]
        }
      ]
    },
    {
      "cell_type": "markdown",
      "source": [
        "#Verify epoch value"
      ],
      "metadata": {
        "id": "0LD8jwZuWDwS"
      }
    },
    {
      "cell_type": "code",
      "source": [
        "print(user_input_epoch)"
      ],
      "metadata": {
        "colab": {
          "base_uri": "https://localhost:8080/"
        },
        "id": "FP40d7VTWF8T",
        "outputId": "583299f2-b20a-4bea-ed48-9e83cb4cc1a4"
      },
      "execution_count": 25,
      "outputs": [
        {
          "output_type": "stream",
          "name": "stdout",
          "text": [
            "5\n"
          ]
        }
      ]
    }
  ]
}