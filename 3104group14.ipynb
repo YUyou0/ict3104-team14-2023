{
  "nbformat": 4,
  "nbformat_minor": 0,
  "metadata": {
    "colab": {
      "provenance": []
    },
    "kernelspec": {
      "name": "python3",
      "display_name": "Python 3"
    },
    "language_info": {
      "name": "python"
    },
    "widgets": {
      "application/vnd.jupyter.widget-state+json": {
        "99685a44d81a4b5798fa81607d6607e6": {
          "model_module": "@jupyter-widgets/controls",
          "model_name": "DropdownModel",
          "model_module_version": "1.5.0",
          "state": {
            "_dom_classes": [],
            "_model_module": "@jupyter-widgets/controls",
            "_model_module_version": "1.5.0",
            "_model_name": "DropdownModel",
            "_options_labels": [
              "",
              "pose_sample.yaml"
            ],
            "_view_count": null,
            "_view_module": "@jupyter-widgets/controls",
            "_view_module_version": "1.5.0",
            "_view_name": "DropdownView",
            "description": "Select a file:",
            "description_tooltip": null,
            "disabled": false,
            "index": 1,
            "layout": "IPY_MODEL_11f561ac070d49ea91ae866446328c25",
            "style": "IPY_MODEL_a6bad105cf6945b6bdd3a09bd53892a3"
          }
        },
        "11f561ac070d49ea91ae866446328c25": {
          "model_module": "@jupyter-widgets/base",
          "model_name": "LayoutModel",
          "model_module_version": "1.2.0",
          "state": {
            "_model_module": "@jupyter-widgets/base",
            "_model_module_version": "1.2.0",
            "_model_name": "LayoutModel",
            "_view_count": null,
            "_view_module": "@jupyter-widgets/base",
            "_view_module_version": "1.2.0",
            "_view_name": "LayoutView",
            "align_content": null,
            "align_items": null,
            "align_self": null,
            "border": null,
            "bottom": null,
            "display": null,
            "flex": null,
            "flex_flow": null,
            "grid_area": null,
            "grid_auto_columns": null,
            "grid_auto_flow": null,
            "grid_auto_rows": null,
            "grid_column": null,
            "grid_gap": null,
            "grid_row": null,
            "grid_template_areas": null,
            "grid_template_columns": null,
            "grid_template_rows": null,
            "height": null,
            "justify_content": null,
            "justify_items": null,
            "left": null,
            "margin": null,
            "max_height": null,
            "max_width": null,
            "min_height": null,
            "min_width": null,
            "object_fit": null,
            "object_position": null,
            "order": null,
            "overflow": null,
            "overflow_x": null,
            "overflow_y": null,
            "padding": null,
            "right": null,
            "top": null,
            "visibility": null,
            "width": null
          }
        },
        "a6bad105cf6945b6bdd3a09bd53892a3": {
          "model_module": "@jupyter-widgets/controls",
          "model_name": "DescriptionStyleModel",
          "model_module_version": "1.5.0",
          "state": {
            "_model_module": "@jupyter-widgets/controls",
            "_model_module_version": "1.5.0",
            "_model_name": "DescriptionStyleModel",
            "_view_count": null,
            "_view_module": "@jupyter-widgets/base",
            "_view_module_version": "1.2.0",
            "_view_name": "StyleView",
            "description_width": ""
          }
        },
        "b5dc43a485644da0984ec5b8cb398b6a": {
          "model_module": "@jupyter-widgets/controls",
          "model_name": "DropdownModel",
          "model_module_version": "1.5.0",
          "state": {
            "_dom_classes": [],
            "_model_module": "@jupyter-widgets/controls",
            "_model_module_version": "1.5.0",
            "_model_name": "DropdownModel",
            "_options_labels": [
              "",
              "charades"
            ],
            "_view_count": null,
            "_view_module": "@jupyter-widgets/controls",
            "_view_module_version": "1.5.0",
            "_view_name": "DropdownView",
            "description": "Select a Folder:",
            "description_tooltip": null,
            "disabled": false,
            "index": 1,
            "layout": "IPY_MODEL_33b30d69055045b4b1664a8b868a14fc",
            "style": "IPY_MODEL_946658bb913f4c538066673e322f1842"
          }
        },
        "33b30d69055045b4b1664a8b868a14fc": {
          "model_module": "@jupyter-widgets/base",
          "model_name": "LayoutModel",
          "model_module_version": "1.2.0",
          "state": {
            "_model_module": "@jupyter-widgets/base",
            "_model_module_version": "1.2.0",
            "_model_name": "LayoutModel",
            "_view_count": null,
            "_view_module": "@jupyter-widgets/base",
            "_view_module_version": "1.2.0",
            "_view_name": "LayoutView",
            "align_content": null,
            "align_items": null,
            "align_self": null,
            "border": null,
            "bottom": null,
            "display": null,
            "flex": null,
            "flex_flow": null,
            "grid_area": null,
            "grid_auto_columns": null,
            "grid_auto_flow": null,
            "grid_auto_rows": null,
            "grid_column": null,
            "grid_gap": null,
            "grid_row": null,
            "grid_template_areas": null,
            "grid_template_columns": null,
            "grid_template_rows": null,
            "height": null,
            "justify_content": null,
            "justify_items": null,
            "left": null,
            "margin": null,
            "max_height": null,
            "max_width": null,
            "min_height": null,
            "min_width": null,
            "object_fit": null,
            "object_position": null,
            "order": null,
            "overflow": null,
            "overflow_x": null,
            "overflow_y": null,
            "padding": null,
            "right": null,
            "top": null,
            "visibility": null,
            "width": null
          }
        },
        "946658bb913f4c538066673e322f1842": {
          "model_module": "@jupyter-widgets/controls",
          "model_name": "DescriptionStyleModel",
          "model_module_version": "1.5.0",
          "state": {
            "_model_module": "@jupyter-widgets/controls",
            "_model_module_version": "1.5.0",
            "_model_name": "DescriptionStyleModel",
            "_view_count": null,
            "_view_module": "@jupyter-widgets/base",
            "_view_module_version": "1.2.0",
            "_view_name": "StyleView",
            "description_width": ""
          }
        },
        "f395ad759ca0481a8fd34f6c59838baf": {
          "model_module": "@jupyter-widgets/controls",
          "model_name": "TextModel",
          "model_module_version": "1.5.0",
          "state": {
            "_dom_classes": [],
            "_model_module": "@jupyter-widgets/controls",
            "_model_module_version": "1.5.0",
            "_model_name": "TextModel",
            "_view_count": null,
            "_view_module": "@jupyter-widgets/controls",
            "_view_module_version": "1.5.0",
            "_view_name": "TextView",
            "continuous_update": true,
            "description": "Name Input:",
            "description_tooltip": null,
            "disabled": false,
            "layout": "IPY_MODEL_3186883f1674441aa32e3a5e2396aedc",
            "placeholder": "Enter new model name",
            "style": "IPY_MODEL_bd5a1bf502c54a17b6fcae1d647f02a8",
            "value": "naruto"
          }
        },
        "3186883f1674441aa32e3a5e2396aedc": {
          "model_module": "@jupyter-widgets/base",
          "model_name": "LayoutModel",
          "model_module_version": "1.2.0",
          "state": {
            "_model_module": "@jupyter-widgets/base",
            "_model_module_version": "1.2.0",
            "_model_name": "LayoutModel",
            "_view_count": null,
            "_view_module": "@jupyter-widgets/base",
            "_view_module_version": "1.2.0",
            "_view_name": "LayoutView",
            "align_content": null,
            "align_items": null,
            "align_self": null,
            "border": null,
            "bottom": null,
            "display": null,
            "flex": null,
            "flex_flow": null,
            "grid_area": null,
            "grid_auto_columns": null,
            "grid_auto_flow": null,
            "grid_auto_rows": null,
            "grid_column": null,
            "grid_gap": null,
            "grid_row": null,
            "grid_template_areas": null,
            "grid_template_columns": null,
            "grid_template_rows": null,
            "height": null,
            "justify_content": null,
            "justify_items": null,
            "left": null,
            "margin": null,
            "max_height": null,
            "max_width": null,
            "min_height": null,
            "min_width": null,
            "object_fit": null,
            "object_position": null,
            "order": null,
            "overflow": null,
            "overflow_x": null,
            "overflow_y": null,
            "padding": null,
            "right": null,
            "top": null,
            "visibility": null,
            "width": null
          }
        },
        "bd5a1bf502c54a17b6fcae1d647f02a8": {
          "model_module": "@jupyter-widgets/controls",
          "model_name": "DescriptionStyleModel",
          "model_module_version": "1.5.0",
          "state": {
            "_model_module": "@jupyter-widgets/controls",
            "_model_module_version": "1.5.0",
            "_model_name": "DescriptionStyleModel",
            "_view_count": null,
            "_view_module": "@jupyter-widgets/base",
            "_view_module_version": "1.2.0",
            "_view_name": "StyleView",
            "description_width": ""
          }
        },
        "58ad4c51f5814533bd30e3522023a903": {
          "model_module": "@jupyter-widgets/controls",
          "model_name": "ButtonModel",
          "model_module_version": "1.5.0",
          "state": {
            "_dom_classes": [],
            "_model_module": "@jupyter-widgets/controls",
            "_model_module_version": "1.5.0",
            "_model_name": "ButtonModel",
            "_view_count": null,
            "_view_module": "@jupyter-widgets/controls",
            "_view_module_version": "1.5.0",
            "_view_name": "ButtonView",
            "button_style": "",
            "description": "Submit",
            "disabled": false,
            "icon": "",
            "layout": "IPY_MODEL_272e8ab766d54d0f9a5bfe3a1b90c189",
            "style": "IPY_MODEL_3322a0dec18244d2946f92a44da25b82",
            "tooltip": ""
          }
        },
        "272e8ab766d54d0f9a5bfe3a1b90c189": {
          "model_module": "@jupyter-widgets/base",
          "model_name": "LayoutModel",
          "model_module_version": "1.2.0",
          "state": {
            "_model_module": "@jupyter-widgets/base",
            "_model_module_version": "1.2.0",
            "_model_name": "LayoutModel",
            "_view_count": null,
            "_view_module": "@jupyter-widgets/base",
            "_view_module_version": "1.2.0",
            "_view_name": "LayoutView",
            "align_content": null,
            "align_items": null,
            "align_self": null,
            "border": null,
            "bottom": null,
            "display": null,
            "flex": null,
            "flex_flow": null,
            "grid_area": null,
            "grid_auto_columns": null,
            "grid_auto_flow": null,
            "grid_auto_rows": null,
            "grid_column": null,
            "grid_gap": null,
            "grid_row": null,
            "grid_template_areas": null,
            "grid_template_columns": null,
            "grid_template_rows": null,
            "height": null,
            "justify_content": null,
            "justify_items": null,
            "left": null,
            "margin": null,
            "max_height": null,
            "max_width": null,
            "min_height": null,
            "min_width": null,
            "object_fit": null,
            "object_position": null,
            "order": null,
            "overflow": null,
            "overflow_x": null,
            "overflow_y": null,
            "padding": null,
            "right": null,
            "top": null,
            "visibility": null,
            "width": null
          }
        },
        "3322a0dec18244d2946f92a44da25b82": {
          "model_module": "@jupyter-widgets/controls",
          "model_name": "ButtonStyleModel",
          "model_module_version": "1.5.0",
          "state": {
            "_model_module": "@jupyter-widgets/controls",
            "_model_module_version": "1.5.0",
            "_model_name": "ButtonStyleModel",
            "_view_count": null,
            "_view_module": "@jupyter-widgets/base",
            "_view_module_version": "1.2.0",
            "_view_name": "StyleView",
            "button_color": null,
            "font_weight": ""
          }
        },
        "e5cea6803ab24f7282bb67dc5e0a651c": {
          "model_module": "@jupyter-widgets/controls",
          "model_name": "TextModel",
          "model_module_version": "1.5.0",
          "state": {
            "_dom_classes": [],
            "_model_module": "@jupyter-widgets/controls",
            "_model_module_version": "1.5.0",
            "_model_name": "TextModel",
            "_view_count": null,
            "_view_module": "@jupyter-widgets/controls",
            "_view_module_version": "1.5.0",
            "_view_name": "TextView",
            "continuous_update": true,
            "description": "Batch Size:",
            "description_tooltip": null,
            "disabled": false,
            "layout": "IPY_MODEL_bc86796000414a3b820c2cc58b79559c",
            "placeholder": "Enter a whole number",
            "style": "IPY_MODEL_5e684acde9d14858b64f490aa64db88c",
            "value": "3"
          }
        },
        "bc86796000414a3b820c2cc58b79559c": {
          "model_module": "@jupyter-widgets/base",
          "model_name": "LayoutModel",
          "model_module_version": "1.2.0",
          "state": {
            "_model_module": "@jupyter-widgets/base",
            "_model_module_version": "1.2.0",
            "_model_name": "LayoutModel",
            "_view_count": null,
            "_view_module": "@jupyter-widgets/base",
            "_view_module_version": "1.2.0",
            "_view_name": "LayoutView",
            "align_content": null,
            "align_items": null,
            "align_self": null,
            "border": null,
            "bottom": null,
            "display": null,
            "flex": null,
            "flex_flow": null,
            "grid_area": null,
            "grid_auto_columns": null,
            "grid_auto_flow": null,
            "grid_auto_rows": null,
            "grid_column": null,
            "grid_gap": null,
            "grid_row": null,
            "grid_template_areas": null,
            "grid_template_columns": null,
            "grid_template_rows": null,
            "height": null,
            "justify_content": null,
            "justify_items": null,
            "left": null,
            "margin": null,
            "max_height": null,
            "max_width": null,
            "min_height": null,
            "min_width": null,
            "object_fit": null,
            "object_position": null,
            "order": null,
            "overflow": null,
            "overflow_x": null,
            "overflow_y": null,
            "padding": null,
            "right": null,
            "top": null,
            "visibility": null,
            "width": null
          }
        },
        "5e684acde9d14858b64f490aa64db88c": {
          "model_module": "@jupyter-widgets/controls",
          "model_name": "DescriptionStyleModel",
          "model_module_version": "1.5.0",
          "state": {
            "_model_module": "@jupyter-widgets/controls",
            "_model_module_version": "1.5.0",
            "_model_name": "DescriptionStyleModel",
            "_view_count": null,
            "_view_module": "@jupyter-widgets/base",
            "_view_module_version": "1.2.0",
            "_view_name": "StyleView",
            "description_width": ""
          }
        },
        "853c82dc74a04b2b9c78ad51fdcbfd5f": {
          "model_module": "@jupyter-widgets/controls",
          "model_name": "ButtonModel",
          "model_module_version": "1.5.0",
          "state": {
            "_dom_classes": [],
            "_model_module": "@jupyter-widgets/controls",
            "_model_module_version": "1.5.0",
            "_model_name": "ButtonModel",
            "_view_count": null,
            "_view_module": "@jupyter-widgets/controls",
            "_view_module_version": "1.5.0",
            "_view_name": "ButtonView",
            "button_style": "",
            "description": "Submit",
            "disabled": false,
            "icon": "",
            "layout": "IPY_MODEL_bf13c288b1b44c13b874a1eead7a6bc1",
            "style": "IPY_MODEL_b50efadd9d9d4346b3e1bd51d27fbfe2",
            "tooltip": ""
          }
        },
        "bf13c288b1b44c13b874a1eead7a6bc1": {
          "model_module": "@jupyter-widgets/base",
          "model_name": "LayoutModel",
          "model_module_version": "1.2.0",
          "state": {
            "_model_module": "@jupyter-widgets/base",
            "_model_module_version": "1.2.0",
            "_model_name": "LayoutModel",
            "_view_count": null,
            "_view_module": "@jupyter-widgets/base",
            "_view_module_version": "1.2.0",
            "_view_name": "LayoutView",
            "align_content": null,
            "align_items": null,
            "align_self": null,
            "border": null,
            "bottom": null,
            "display": null,
            "flex": null,
            "flex_flow": null,
            "grid_area": null,
            "grid_auto_columns": null,
            "grid_auto_flow": null,
            "grid_auto_rows": null,
            "grid_column": null,
            "grid_gap": null,
            "grid_row": null,
            "grid_template_areas": null,
            "grid_template_columns": null,
            "grid_template_rows": null,
            "height": null,
            "justify_content": null,
            "justify_items": null,
            "left": null,
            "margin": null,
            "max_height": null,
            "max_width": null,
            "min_height": null,
            "min_width": null,
            "object_fit": null,
            "object_position": null,
            "order": null,
            "overflow": null,
            "overflow_x": null,
            "overflow_y": null,
            "padding": null,
            "right": null,
            "top": null,
            "visibility": null,
            "width": null
          }
        },
        "b50efadd9d9d4346b3e1bd51d27fbfe2": {
          "model_module": "@jupyter-widgets/controls",
          "model_name": "ButtonStyleModel",
          "model_module_version": "1.5.0",
          "state": {
            "_model_module": "@jupyter-widgets/controls",
            "_model_module_version": "1.5.0",
            "_model_name": "ButtonStyleModel",
            "_view_count": null,
            "_view_module": "@jupyter-widgets/base",
            "_view_module_version": "1.2.0",
            "_view_name": "StyleView",
            "button_color": null,
            "font_weight": ""
          }
        },
        "ed2b3cb268f14921b0bc9b50aa39e16a": {
          "model_module": "@jupyter-widgets/controls",
          "model_name": "TextModel",
          "model_module_version": "1.5.0",
          "state": {
            "_dom_classes": [],
            "_model_module": "@jupyter-widgets/controls",
            "_model_module_version": "1.5.0",
            "_model_name": "TextModel",
            "_view_count": null,
            "_view_module": "@jupyter-widgets/controls",
            "_view_module_version": "1.5.0",
            "_view_name": "TextView",
            "continuous_update": true,
            "description": "Epochs:",
            "description_tooltip": null,
            "disabled": false,
            "layout": "IPY_MODEL_be3657edf0e14559aedb256998543f21",
            "placeholder": "Enter a whole number",
            "style": "IPY_MODEL_319d81b077674f58beb13c239ec35a19",
            "value": "4"
          }
        },
        "be3657edf0e14559aedb256998543f21": {
          "model_module": "@jupyter-widgets/base",
          "model_name": "LayoutModel",
          "model_module_version": "1.2.0",
          "state": {
            "_model_module": "@jupyter-widgets/base",
            "_model_module_version": "1.2.0",
            "_model_name": "LayoutModel",
            "_view_count": null,
            "_view_module": "@jupyter-widgets/base",
            "_view_module_version": "1.2.0",
            "_view_name": "LayoutView",
            "align_content": null,
            "align_items": null,
            "align_self": null,
            "border": null,
            "bottom": null,
            "display": null,
            "flex": null,
            "flex_flow": null,
            "grid_area": null,
            "grid_auto_columns": null,
            "grid_auto_flow": null,
            "grid_auto_rows": null,
            "grid_column": null,
            "grid_gap": null,
            "grid_row": null,
            "grid_template_areas": null,
            "grid_template_columns": null,
            "grid_template_rows": null,
            "height": null,
            "justify_content": null,
            "justify_items": null,
            "left": null,
            "margin": null,
            "max_height": null,
            "max_width": null,
            "min_height": null,
            "min_width": null,
            "object_fit": null,
            "object_position": null,
            "order": null,
            "overflow": null,
            "overflow_x": null,
            "overflow_y": null,
            "padding": null,
            "right": null,
            "top": null,
            "visibility": null,
            "width": null
          }
        },
        "319d81b077674f58beb13c239ec35a19": {
          "model_module": "@jupyter-widgets/controls",
          "model_name": "DescriptionStyleModel",
          "model_module_version": "1.5.0",
          "state": {
            "_model_module": "@jupyter-widgets/controls",
            "_model_module_version": "1.5.0",
            "_model_name": "DescriptionStyleModel",
            "_view_count": null,
            "_view_module": "@jupyter-widgets/base",
            "_view_module_version": "1.2.0",
            "_view_name": "StyleView",
            "description_width": ""
          }
        },
        "27d955f8844d419497334e916788ec79": {
          "model_module": "@jupyter-widgets/controls",
          "model_name": "ButtonModel",
          "model_module_version": "1.5.0",
          "state": {
            "_dom_classes": [],
            "_model_module": "@jupyter-widgets/controls",
            "_model_module_version": "1.5.0",
            "_model_name": "ButtonModel",
            "_view_count": null,
            "_view_module": "@jupyter-widgets/controls",
            "_view_module_version": "1.5.0",
            "_view_name": "ButtonView",
            "button_style": "",
            "description": "Submit",
            "disabled": false,
            "icon": "",
            "layout": "IPY_MODEL_cf2165e30ff14be7853baae877864290",
            "style": "IPY_MODEL_c7b27fc4baab4b89bee590341cdb2282",
            "tooltip": ""
          }
        },
        "cf2165e30ff14be7853baae877864290": {
          "model_module": "@jupyter-widgets/base",
          "model_name": "LayoutModel",
          "model_module_version": "1.2.0",
          "state": {
            "_model_module": "@jupyter-widgets/base",
            "_model_module_version": "1.2.0",
            "_model_name": "LayoutModel",
            "_view_count": null,
            "_view_module": "@jupyter-widgets/base",
            "_view_module_version": "1.2.0",
            "_view_name": "LayoutView",
            "align_content": null,
            "align_items": null,
            "align_self": null,
            "border": null,
            "bottom": null,
            "display": null,
            "flex": null,
            "flex_flow": null,
            "grid_area": null,
            "grid_auto_columns": null,
            "grid_auto_flow": null,
            "grid_auto_rows": null,
            "grid_column": null,
            "grid_gap": null,
            "grid_row": null,
            "grid_template_areas": null,
            "grid_template_columns": null,
            "grid_template_rows": null,
            "height": null,
            "justify_content": null,
            "justify_items": null,
            "left": null,
            "margin": null,
            "max_height": null,
            "max_width": null,
            "min_height": null,
            "min_width": null,
            "object_fit": null,
            "object_position": null,
            "order": null,
            "overflow": null,
            "overflow_x": null,
            "overflow_y": null,
            "padding": null,
            "right": null,
            "top": null,
            "visibility": null,
            "width": null
          }
        },
        "c7b27fc4baab4b89bee590341cdb2282": {
          "model_module": "@jupyter-widgets/controls",
          "model_name": "ButtonStyleModel",
          "model_module_version": "1.5.0",
          "state": {
            "_model_module": "@jupyter-widgets/controls",
            "_model_module_version": "1.5.0",
            "_model_name": "ButtonStyleModel",
            "_view_count": null,
            "_view_module": "@jupyter-widgets/base",
            "_view_module_version": "1.2.0",
            "_view_name": "StyleView",
            "button_color": null,
            "font_weight": ""
          }
        }
      }
    }
  },
  "cells": [
    {
      "cell_type": "code",
      "execution_count": 1,
      "metadata": {
        "colab": {
          "base_uri": "https://localhost:8080/"
        },
        "id": "xYNR4lMZy2PD",
        "outputId": "d6336d5c-42d7-45d5-fa8a-9ceee08a4fcb"
      },
      "outputs": [
        {
          "output_type": "stream",
          "name": "stdout",
          "text": [
            "Cloning into 'ict3104-team14-2023'...\n",
            "remote: Enumerating objects: 74, done.\u001b[K\n",
            "remote: Counting objects: 100% (18/18), done.\u001b[K\n",
            "remote: Compressing objects: 100% (15/15), done.\u001b[K\n",
            "remote: Total 74 (delta 5), reused 14 (delta 3), pack-reused 56\u001b[K\n",
            "Receiving objects: 100% (74/74), 50.22 MiB | 30.29 MiB/s, done.\n",
            "Resolving deltas: 100% (15/15), done.\n"
          ]
        }
      ],
      "source": [
        "!git clone https://github.com/YUyou0/ict3104-team14-2023.git"
      ]
    },
    {
      "cell_type": "markdown",
      "source": [
        "# Select a pretrained model that you want to use for training"
      ],
      "metadata": {
        "id": "CP4UbaH5z1Jx"
      }
    },
    {
      "cell_type": "code",
      "source": [
        "# Define the path to the folder containing the files\n",
        "folder_path = '/content/ict3104-team14-2023/configs'  # Replace with the actual folder path\n",
        "\n",
        "# List files in the folder\n",
        "model_list = os.listdir(folder_path)\n",
        "model_list.insert(0,\"\")  # Insert \"\" at the start of the list\n",
        "\n",
        "# Create a dropdown widget\n",
        "model_dropdown = widgets.Dropdown(\n",
        "    options=model_list,\n",
        "    description='Select a file:'\n",
        ")\n",
        "\n",
        "# Display the dropdown widget\n",
        "display(model_dropdown)"
      ],
      "metadata": {
        "colab": {
          "base_uri": "https://localhost:8080/",
          "height": 49,
          "referenced_widgets": [
            "99685a44d81a4b5798fa81607d6607e6",
            "11f561ac070d49ea91ae866446328c25",
            "a6bad105cf6945b6bdd3a09bd53892a3"
          ]
        },
        "id": "QST52lhfz67b",
        "outputId": "a5376613-cded-4c5a-98dc-54feb154e50b"
      },
      "execution_count": 20,
      "outputs": [
        {
          "output_type": "display_data",
          "data": {
            "text/plain": [
              "Dropdown(description='Select a file:', options=('', 'pose_sample.yaml'), value='')"
            ],
            "application/vnd.jupyter.widget-view+json": {
              "version_major": 2,
              "version_minor": 0,
              "model_id": "99685a44d81a4b5798fa81607d6607e6"
            }
          },
          "metadata": {}
        }
      ]
    },
    {
      "cell_type": "markdown",
      "source": [
        "# Run this cell below to confirm your selected pretrained model to be used for training"
      ],
      "metadata": {
        "id": "vdmU5-An0WDZ"
      }
    },
    {
      "cell_type": "code",
      "source": [
        "# Get the selected file name from the dropdown\n",
        "selected_model = model_dropdown.value\n",
        "\n",
        "# Check if the selected option is valid\n",
        "if selected_model == \"\":\n",
        "    raise ValueError(\"Invalid option selected. Please choose from the provided list.\")\n",
        "\n",
        "# Now 'selected_file' contains the selected file name as a string\n",
        "print(f\"Selected model: {selected_model}\")"
      ],
      "metadata": {
        "colab": {
          "base_uri": "https://localhost:8080/"
        },
        "id": "p5J10mp60TDs",
        "outputId": "e49752c9-1c82-44ea-8d51-c71331b255f9"
      },
      "execution_count": 22,
      "outputs": [
        {
          "output_type": "stream",
          "name": "stdout",
          "text": [
            "Selected model: pose_sample.yaml\n"
          ]
        }
      ]
    },
    {
      "cell_type": "markdown",
      "source": [
        "# Select a dataset to be used for the training"
      ],
      "metadata": {
        "id": "XiKi3Z_G9-WS"
      }
    },
    {
      "cell_type": "code",
      "source": [
        "import os\n",
        "import ipywidgets as widgets\n",
        "from IPython.display import display\n",
        "\n",
        "# Function to list file names in a folder and store their paths in an array\n",
        "def list_file_names_and_paths(folder):\n",
        "    global file_paths\n",
        "    folder_path = os.path.join('/content/ict3104-team14-2023/input_videos', folder)\n",
        "    if os.path.isdir(folder_path):\n",
        "        file_paths = [os.path.join(folder_path, file) for file in os.listdir(folder_path)]\n",
        "        file_names = [os.path.basename(file) for file in file_paths]\n",
        "        print(f\"List of file names in '{folder}':\")\n",
        "        for file_name in file_names:\n",
        "            print(file_name)\n",
        "    else:\n",
        "        print(f\"'{folder}' is not a valid folder.\")\n",
        "\n",
        "# Create a dropdown widget with an empty default option\n",
        "folder_dropdown = widgets.Dropdown(\n",
        "    options=[''] + os.listdir('/content/ict3104-team14-2023/input_videos'),  # Include an empty option\n",
        "    description='Select a Folder:',\n",
        ")\n",
        "\n",
        "# Initialize the file_paths array\n",
        "file_paths = []\n",
        "\n",
        "# Define an event handler for the dropdown\n",
        "def on_dropdown_change(change):\n",
        "    selected_folder = change.new\n",
        "    list_file_names_and_paths(selected_folder)\n",
        "\n",
        "# Attach the event handler to the dropdown\n",
        "folder_dropdown.observe(on_dropdown_change, names='value')\n",
        "\n",
        "# Display the dropdown widget\n",
        "display(folder_dropdown)"
      ],
      "metadata": {
        "colab": {
          "base_uri": "https://localhost:8080/",
          "height": 267,
          "referenced_widgets": [
            "b5dc43a485644da0984ec5b8cb398b6a",
            "33b30d69055045b4b1664a8b868a14fc",
            "946658bb913f4c538066673e322f1842"
          ]
        },
        "id": "Pgm-pGwW-CfU",
        "outputId": "392a066b-1e12-4b8b-ee77-2f7cb7c5a60d"
      },
      "execution_count": 2,
      "outputs": [
        {
          "output_type": "display_data",
          "data": {
            "text/plain": [
              "Dropdown(description='Select a Folder:', options=('', 'charades'), value='')"
            ],
            "application/vnd.jupyter.widget-view+json": {
              "version_major": 2,
              "version_minor": 0,
              "model_id": "b5dc43a485644da0984ec5b8cb398b6a"
            }
          },
          "metadata": {}
        },
        {
          "output_type": "stream",
          "name": "stdout",
          "text": [
            "List of file names in 'charades':\n",
            "52CKM.mp4\n",
            "3LMTS.mp4\n",
            "5D3X6.mp4\n",
            "5O0YS.mp4\n",
            "3JJ7C.mp4\n",
            "0RJKT.mp4\n",
            "4GLAP.mp4\n",
            "3IPI3.mp4\n",
            "5EFQ7.mp4\n",
            "8ASRQ.mp4\n",
            "2E8GU.mp4\n"
          ]
        }
      ]
    },
    {
      "cell_type": "markdown",
      "source": [
        "# List of videos to be used for training"
      ],
      "metadata": {
        "id": "Rec2TteoB1HC"
      }
    },
    {
      "cell_type": "code",
      "source": [
        "print(file_paths)\n",
        "print(len(file_paths))"
      ],
      "metadata": {
        "colab": {
          "base_uri": "https://localhost:8080/"
        },
        "id": "zx-PFVg2B4lC",
        "outputId": "2636e2af-f703-4f28-8c96-5df4ce81d97c"
      },
      "execution_count": 8,
      "outputs": [
        {
          "output_type": "stream",
          "name": "stdout",
          "text": [
            "['/content/ict3104-team14-2023/input_videos/charades/52CKM.mp4', '/content/ict3104-team14-2023/input_videos/charades/3LMTS.mp4', '/content/ict3104-team14-2023/input_videos/charades/5D3X6.mp4', '/content/ict3104-team14-2023/input_videos/charades/5O0YS.mp4', '/content/ict3104-team14-2023/input_videos/charades/3JJ7C.mp4', '/content/ict3104-team14-2023/input_videos/charades/0RJKT.mp4', '/content/ict3104-team14-2023/input_videos/charades/4GLAP.mp4', '/content/ict3104-team14-2023/input_videos/charades/3IPI3.mp4', '/content/ict3104-team14-2023/input_videos/charades/5EFQ7.mp4', '/content/ict3104-team14-2023/input_videos/charades/8ASRQ.mp4', '/content/ict3104-team14-2023/input_videos/charades/2E8GU.mp4']\n",
            "11\n"
          ]
        }
      ]
    },
    {
      "cell_type": "markdown",
      "source": [
        "# Input a name for this new model to be trained"
      ],
      "metadata": {
        "id": "OK_g8dttEr2V"
      }
    },
    {
      "cell_type": "code",
      "source": [
        "# Create a text input widget\n",
        "text_input = widgets.Text(\n",
        "    value='',  # Default value (you can set a default value if needed)\n",
        "    placeholder='Enter new model name',  # Placeholder text\n",
        "    description='Name Input:',  # Label for the input field\n",
        ")\n",
        "\n",
        "# Create a submit button\n",
        "submit_button = widgets.Button(\n",
        "    description='Submit',  # Label for the button\n",
        ")\n",
        "\n",
        "# Create a variable to store the user's input\n",
        "user_input_modelName = ''\n",
        "\n",
        "# Define a function to update the user_input variable when the submit button is clicked\n",
        "def on_submit_button_click(b):\n",
        "    global user_input_modelName\n",
        "    user_input_modelName = text_input.value\n",
        "    if user_input_modelName == \"\":\n",
        "      print(\"You have not created a name for this new model!\")\n",
        "    else:\n",
        "      print(\"New model name has been submitted\")\n",
        "    if user_input_modelName.isalnum():\n",
        "        print(f\"Model name accepted: {user_input_modelName}\")\n",
        "    else:\n",
        "        print(\"Invalid input. Please enter alphanumeric characters only (no spaces or special characters).\")\n",
        "\n",
        "# Attach the click event handler to the submit button\n",
        "submit_button.on_click(on_submit_button_click)\n",
        "\n",
        "# Display the widgets\n",
        "display(text_input, submit_button)"
      ],
      "metadata": {
        "colab": {
          "base_uri": "https://localhost:8080/",
          "height": 117,
          "referenced_widgets": [
            "f395ad759ca0481a8fd34f6c59838baf",
            "3186883f1674441aa32e3a5e2396aedc",
            "bd5a1bf502c54a17b6fcae1d647f02a8",
            "58ad4c51f5814533bd30e3522023a903",
            "272e8ab766d54d0f9a5bfe3a1b90c189",
            "3322a0dec18244d2946f92a44da25b82"
          ]
        },
        "id": "C_iCFusxEynp",
        "outputId": "ee66cebe-cff1-4750-859c-cf644b851c58"
      },
      "execution_count": 11,
      "outputs": [
        {
          "output_type": "display_data",
          "data": {
            "text/plain": [
              "Text(value='', description='Name Input:', placeholder='Enter new model name')"
            ],
            "application/vnd.jupyter.widget-view+json": {
              "version_major": 2,
              "version_minor": 0,
              "model_id": "f395ad759ca0481a8fd34f6c59838baf"
            }
          },
          "metadata": {}
        },
        {
          "output_type": "display_data",
          "data": {
            "text/plain": [
              "Button(description='Submit', style=ButtonStyle())"
            ],
            "application/vnd.jupyter.widget-view+json": {
              "version_major": 2,
              "version_minor": 0,
              "model_id": "58ad4c51f5814533bd30e3522023a903"
            }
          },
          "metadata": {}
        },
        {
          "output_type": "stream",
          "name": "stdout",
          "text": [
            "New model name has been submitted\n",
            "Model name accepted: naruto\n"
          ]
        }
      ]
    },
    {
      "cell_type": "markdown",
      "source": [
        "# Verify the newly named model"
      ],
      "metadata": {
        "id": "hqQsPOzCSuuH"
      }
    },
    {
      "cell_type": "code",
      "source": [
        "print(user_input_modelName)"
      ],
      "metadata": {
        "colab": {
          "base_uri": "https://localhost:8080/"
        },
        "id": "epIPMXk3KTwm",
        "outputId": "6ddda3d0-9fb1-4789-da46-75de46708072"
      },
      "execution_count": 12,
      "outputs": [
        {
          "output_type": "stream",
          "name": "stdout",
          "text": [
            "naruto\n"
          ]
        }
      ]
    },
    {
      "cell_type": "markdown",
      "source": [
        "# Input the batch size"
      ],
      "metadata": {
        "id": "rwUSyXVwS7J6"
      }
    },
    {
      "cell_type": "code",
      "source": [
        "# Function to handle the button click event\n",
        "def on_submit_button_click(b):\n",
        "    global user_input_batchSize\n",
        "    user_input_batchSize = text_input.value\n",
        "    # Check if the input is a valid whole number (integer)\n",
        "    if user_input_batchSize.isdigit():\n",
        "        print(f\"Batch size accepted: {user_input_batchSize}\")\n",
        "    else:\n",
        "        print(\"Invalid input. Please enter a whole number (no decimals).\")\n",
        "\n",
        "# Create a text input widget\n",
        "text_input = widgets.Text(\n",
        "    placeholder='Enter a whole number',\n",
        "    description='Batch Size:',\n",
        ")\n",
        "\n",
        "# Create a submit button\n",
        "submit_button = widgets.Button(\n",
        "    description='Submit',\n",
        ")\n",
        "submit_button.on_click(on_submit_button_click)\n",
        "\n",
        "# Display the input field and submit button\n",
        "display(text_input)\n",
        "display(submit_button)"
      ],
      "metadata": {
        "colab": {
          "base_uri": "https://localhost:8080/",
          "height": 117,
          "referenced_widgets": [
            "e5cea6803ab24f7282bb67dc5e0a651c",
            "bc86796000414a3b820c2cc58b79559c",
            "5e684acde9d14858b64f490aa64db88c",
            "853c82dc74a04b2b9c78ad51fdcbfd5f",
            "bf13c288b1b44c13b874a1eead7a6bc1",
            "b50efadd9d9d4346b3e1bd51d27fbfe2"
          ]
        },
        "id": "qYE4HSeMTyZs",
        "outputId": "1d0587f6-928b-45fc-a02e-aa482d76373f"
      },
      "execution_count": 13,
      "outputs": [
        {
          "output_type": "display_data",
          "data": {
            "text/plain": [
              "Text(value='', description='Batch Size:', placeholder='Enter a whole number')"
            ],
            "application/vnd.jupyter.widget-view+json": {
              "version_major": 2,
              "version_minor": 0,
              "model_id": "e5cea6803ab24f7282bb67dc5e0a651c"
            }
          },
          "metadata": {}
        },
        {
          "output_type": "display_data",
          "data": {
            "text/plain": [
              "Button(description='Submit', style=ButtonStyle())"
            ],
            "application/vnd.jupyter.widget-view+json": {
              "version_major": 2,
              "version_minor": 0,
              "model_id": "853c82dc74a04b2b9c78ad51fdcbfd5f"
            }
          },
          "metadata": {}
        },
        {
          "output_type": "stream",
          "name": "stdout",
          "text": [
            "Invalid input. Please enter a whole number (no decimals).\n",
            "Batch size accepted: 3\n"
          ]
        }
      ]
    },
    {
      "cell_type": "markdown",
      "source": [
        "# Verify the batch size"
      ],
      "metadata": {
        "id": "gzYoDoOnVO6X"
      }
    },
    {
      "cell_type": "code",
      "source": [
        "print(user_input_batchSize)"
      ],
      "metadata": {
        "colab": {
          "base_uri": "https://localhost:8080/"
        },
        "id": "pIebKZIaVSIL",
        "outputId": "12f5556f-5312-4584-c370-6ab8f676b6be"
      },
      "execution_count": 14,
      "outputs": [
        {
          "output_type": "stream",
          "name": "stdout",
          "text": [
            "3\n"
          ]
        }
      ]
    },
    {
      "cell_type": "markdown",
      "source": [
        "# Set epochs value"
      ],
      "metadata": {
        "id": "fyOg17MUVk_s"
      }
    },
    {
      "cell_type": "code",
      "source": [
        "# Function to handle the button click event\n",
        "def on_submit_button_click(b):\n",
        "    global user_input_epoch\n",
        "    user_input_epoch = text_input.value\n",
        "    # Check if the input is a valid whole number (integer)\n",
        "    if user_input_epoch.isdigit():\n",
        "        print(f\"Epochs value accepted: {user_input_epoch}\")\n",
        "    else:\n",
        "        print(\"Invalid input. Please enter a whole number (no decimals).\")\n",
        "\n",
        "# Create a text input widget\n",
        "text_input = widgets.Text(\n",
        "    placeholder='Enter a whole number',\n",
        "    description='Epochs:',\n",
        ")\n",
        "\n",
        "# Create a submit button\n",
        "submit_button = widgets.Button(\n",
        "    description='Submit',\n",
        ")\n",
        "submit_button.on_click(on_submit_button_click)\n",
        "\n",
        "# Display the input field and submit button\n",
        "display(text_input)\n",
        "display(submit_button)"
      ],
      "metadata": {
        "colab": {
          "base_uri": "https://localhost:8080/",
          "height": 99,
          "referenced_widgets": [
            "ed2b3cb268f14921b0bc9b50aa39e16a",
            "be3657edf0e14559aedb256998543f21",
            "319d81b077674f58beb13c239ec35a19",
            "27d955f8844d419497334e916788ec79",
            "cf2165e30ff14be7853baae877864290",
            "c7b27fc4baab4b89bee590341cdb2282"
          ]
        },
        "id": "M80OwZIRVqyk",
        "outputId": "9410203b-1e86-46bc-a96f-16cf9ca072ae"
      },
      "execution_count": 15,
      "outputs": [
        {
          "output_type": "display_data",
          "data": {
            "text/plain": [
              "Text(value='', description='Epochs:', placeholder='Enter a whole number')"
            ],
            "application/vnd.jupyter.widget-view+json": {
              "version_major": 2,
              "version_minor": 0,
              "model_id": "ed2b3cb268f14921b0bc9b50aa39e16a"
            }
          },
          "metadata": {}
        },
        {
          "output_type": "display_data",
          "data": {
            "text/plain": [
              "Button(description='Submit', style=ButtonStyle())"
            ],
            "application/vnd.jupyter.widget-view+json": {
              "version_major": 2,
              "version_minor": 0,
              "model_id": "27d955f8844d419497334e916788ec79"
            }
          },
          "metadata": {}
        },
        {
          "output_type": "stream",
          "name": "stdout",
          "text": [
            "Epochs value accepted: 4\n"
          ]
        }
      ]
    },
    {
      "cell_type": "markdown",
      "source": [
        "#Verify epoch value"
      ],
      "metadata": {
        "id": "0LD8jwZuWDwS"
      }
    },
    {
      "cell_type": "code",
      "source": [
        "print(user_input_epoch)"
      ],
      "metadata": {
        "colab": {
          "base_uri": "https://localhost:8080/"
        },
        "id": "FP40d7VTWF8T",
        "outputId": "060bb645-5067-4a4d-af5f-cd189dce57d5"
      },
      "execution_count": 16,
      "outputs": [
        {
          "output_type": "stream",
          "name": "stdout",
          "text": [
            "4\n"
          ]
        }
      ]
    },
    {
      "cell_type": "markdown",
      "source": [
        "# Run the cell below for validation checking before starting the training sequence"
      ],
      "metadata": {
        "id": "o353sA-E0uY6"
      }
    },
    {
      "cell_type": "code",
      "source": [
        "if selected_model != \"\":\n",
        "  print(\"Pretrained model loaded successful\")\n",
        "  print(selected_model)\n",
        "\n",
        "print(\"\\n\")\n",
        "\n",
        "if file_paths != \"\":\n",
        "   print(\"Dataset loaded successful\")\n",
        "\n",
        "print(\"\\n\")\n",
        "\n",
        "if user_input_modelName != \"\":\n",
        "   print(f\"New model name: {user_input_modelName}\")\n",
        "\n",
        "print(\"\\n\")\n",
        "\n",
        "\n",
        "if user_input_batchSize != \"\":\n",
        "  print(f\"Batch Size: {user_input_batchSize}\")\n",
        "\n",
        "print(\"\\n\")\n",
        "\n",
        "if user_input_epoch != \"\":\n",
        "  print(f\"Epoch: {user_input_epoch}\")\n",
        "\n",
        "if selected_model == \"\":\n",
        "    raise ValueError(\"Invalid option selected. Please choose from the provided list.\")\n",
        "\n",
        "# Check if the selected option is valid\n",
        "if file_paths == \"\":\n",
        "    raise ValueError(\"Invalid option selected. Please choose from the provided list.\")\n",
        "\n",
        "# Check if the selected option is valid\n",
        "if user_input_batchSize == \"\":\n",
        "    raise ValueError(\"You have not written a validation prompt.\")\n"
      ],
      "metadata": {
        "colab": {
          "base_uri": "https://localhost:8080/"
        },
        "id": "XEdJFmw00u1_",
        "outputId": "da773f66-be56-4b87-abd1-baffd152b9ce"
      },
      "execution_count": 28,
      "outputs": [
        {
          "output_type": "stream",
          "name": "stdout",
          "text": [
            "Pretrained model loaded successful\n",
            "pose_sample.yaml\n",
            "\n",
            "\n",
            "Dataset loaded successful\n",
            "\n",
            "\n",
            "New model name: naruto\n",
            "\n",
            "\n",
            "Batch Size: 3\n",
            "\n",
            "\n",
            "Epoch: 4\n"
          ]
        }
      ]
    }
  ]
}