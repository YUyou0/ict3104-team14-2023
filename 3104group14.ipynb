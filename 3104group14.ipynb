{
  "nbformat": 4,
  "nbformat_minor": 0,
  "metadata": {
    "colab": {
      "provenance": []
    },
    "kernelspec": {
      "name": "python3",
      "display_name": "Python 3"
    },
    "language_info": {
      "name": "python"
    },
    "widgets": {
      "application/vnd.jupyter.widget-state+json": {
        "7d7e1353c8804ad88eb05f20a23e32c0": {
          "model_module": "@jupyter-widgets/controls",
          "model_name": "DropdownModel",
          "model_module_version": "1.5.0",
          "state": {
            "_dom_classes": [],
            "_model_module": "@jupyter-widgets/controls",
            "_model_module_version": "1.5.0",
            "_model_name": "DropdownModel",
            "_options_labels": [
              "",
              "pose_sample.yaml"
            ],
            "_view_count": null,
            "_view_module": "@jupyter-widgets/controls",
            "_view_module_version": "1.5.0",
            "_view_name": "DropdownView",
            "description": "Select a file:",
            "description_tooltip": null,
            "disabled": false,
            "index": 1,
            "layout": "IPY_MODEL_59220c3e3ffe4dada078e56f3dc7d1bb",
            "style": "IPY_MODEL_fd9ec7c00f9a4c12979ce88a621e2d79"
          }
        },
        "59220c3e3ffe4dada078e56f3dc7d1bb": {
          "model_module": "@jupyter-widgets/base",
          "model_name": "LayoutModel",
          "model_module_version": "1.2.0",
          "state": {
            "_model_module": "@jupyter-widgets/base",
            "_model_module_version": "1.2.0",
            "_model_name": "LayoutModel",
            "_view_count": null,
            "_view_module": "@jupyter-widgets/base",
            "_view_module_version": "1.2.0",
            "_view_name": "LayoutView",
            "align_content": null,
            "align_items": null,
            "align_self": null,
            "border": null,
            "bottom": null,
            "display": null,
            "flex": null,
            "flex_flow": null,
            "grid_area": null,
            "grid_auto_columns": null,
            "grid_auto_flow": null,
            "grid_auto_rows": null,
            "grid_column": null,
            "grid_gap": null,
            "grid_row": null,
            "grid_template_areas": null,
            "grid_template_columns": null,
            "grid_template_rows": null,
            "height": null,
            "justify_content": null,
            "justify_items": null,
            "left": null,
            "margin": null,
            "max_height": null,
            "max_width": null,
            "min_height": null,
            "min_width": null,
            "object_fit": null,
            "object_position": null,
            "order": null,
            "overflow": null,
            "overflow_x": null,
            "overflow_y": null,
            "padding": null,
            "right": null,
            "top": null,
            "visibility": null,
            "width": null
          }
        },
        "fd9ec7c00f9a4c12979ce88a621e2d79": {
          "model_module": "@jupyter-widgets/controls",
          "model_name": "DescriptionStyleModel",
          "model_module_version": "1.5.0",
          "state": {
            "_model_module": "@jupyter-widgets/controls",
            "_model_module_version": "1.5.0",
            "_model_name": "DescriptionStyleModel",
            "_view_count": null,
            "_view_module": "@jupyter-widgets/base",
            "_view_module_version": "1.2.0",
            "_view_name": "StyleView",
            "description_width": ""
          }
        },
        "b3b613498ce145b3901006339b2ca3a6": {
          "model_module": "@jupyter-widgets/controls",
          "model_name": "DropdownModel",
          "model_module_version": "1.5.0",
          "state": {
            "_dom_classes": [],
            "_model_module": "@jupyter-widgets/controls",
            "_model_module_version": "1.5.0",
            "_model_name": "DropdownModel",
            "_options_labels": [
              "",
              "charades"
            ],
            "_view_count": null,
            "_view_module": "@jupyter-widgets/controls",
            "_view_module_version": "1.5.0",
            "_view_name": "DropdownView",
            "description": "Select a Folder:",
            "description_tooltip": null,
            "disabled": false,
            "index": 1,
            "layout": "IPY_MODEL_bda2e516bb3a45229d3ebbf582358840",
            "style": "IPY_MODEL_41d06952f58d4b4b9f0e881d3bd9de6a"
          }
        },
        "bda2e516bb3a45229d3ebbf582358840": {
          "model_module": "@jupyter-widgets/base",
          "model_name": "LayoutModel",
          "model_module_version": "1.2.0",
          "state": {
            "_model_module": "@jupyter-widgets/base",
            "_model_module_version": "1.2.0",
            "_model_name": "LayoutModel",
            "_view_count": null,
            "_view_module": "@jupyter-widgets/base",
            "_view_module_version": "1.2.0",
            "_view_name": "LayoutView",
            "align_content": null,
            "align_items": null,
            "align_self": null,
            "border": null,
            "bottom": null,
            "display": null,
            "flex": null,
            "flex_flow": null,
            "grid_area": null,
            "grid_auto_columns": null,
            "grid_auto_flow": null,
            "grid_auto_rows": null,
            "grid_column": null,
            "grid_gap": null,
            "grid_row": null,
            "grid_template_areas": null,
            "grid_template_columns": null,
            "grid_template_rows": null,
            "height": null,
            "justify_content": null,
            "justify_items": null,
            "left": null,
            "margin": null,
            "max_height": null,
            "max_width": null,
            "min_height": null,
            "min_width": null,
            "object_fit": null,
            "object_position": null,
            "order": null,
            "overflow": null,
            "overflow_x": null,
            "overflow_y": null,
            "padding": null,
            "right": null,
            "top": null,
            "visibility": null,
            "width": null
          }
        },
        "41d06952f58d4b4b9f0e881d3bd9de6a": {
          "model_module": "@jupyter-widgets/controls",
          "model_name": "DescriptionStyleModel",
          "model_module_version": "1.5.0",
          "state": {
            "_model_module": "@jupyter-widgets/controls",
            "_model_module_version": "1.5.0",
            "_model_name": "DescriptionStyleModel",
            "_view_count": null,
            "_view_module": "@jupyter-widgets/base",
            "_view_module_version": "1.2.0",
            "_view_name": "StyleView",
            "description_width": ""
          }
        }
      }
    }
  },
  "cells": [
    {
      "cell_type": "code",
      "execution_count": 1,
      "metadata": {
        "colab": {
          "base_uri": "https://localhost:8080/"
        },
        "id": "xYNR4lMZy2PD",
        "outputId": "c52b1b34-f1fc-4963-e3ac-a24ae1d7691f"
      },
      "outputs": [
        {
          "output_type": "stream",
          "name": "stdout",
          "text": [
            "Cloning into 'ict3104-team14-2023'...\n",
            "remote: Enumerating objects: 77, done.\u001b[K\n",
            "remote: Counting objects: 100% (21/21), done.\u001b[K\n",
            "remote: Compressing objects: 100% (17/17), done.\u001b[K\n",
            "remote: Total 77 (delta 6), reused 17 (delta 4), pack-reused 56\u001b[K\n",
            "Receiving objects: 100% (77/77), 50.23 MiB | 29.25 MiB/s, done.\n",
            "Resolving deltas: 100% (16/16), done.\n"
          ]
        }
      ],
      "source": [
        "!git clone https://github.com/YUyou0/ict3104-team14-2023.git"
      ]
    },
    {
      "cell_type": "markdown",
      "source": [
        "# Select a pretrained model that you want to use for testing"
      ],
      "metadata": {
        "id": "XV5sa06DCLuH"
      }
    },
    {
      "cell_type": "code",
      "source": [
        "import os\n",
        "import ipywidgets as widgets\n",
        "from IPython.display import display\n",
        "\n",
        "# Define the path to the folder containing the files\n",
        "folder_path = '/content/ict3104-team14-2023/configs'  # Replace with the actual folder path\n",
        "\n",
        "# List files in the folder\n",
        "model_list = os.listdir(folder_path)\n",
        "model_list.insert(0,\"\")  # Insert \"\" at the start of the list\n",
        "\n",
        "# Create a dropdown widget\n",
        "model_dropdown = widgets.Dropdown(\n",
        "    options=model_list,\n",
        "    description='Select a file:'\n",
        ")\n",
        "\n",
        "# Display the dropdown widget\n",
        "display(model_dropdown)"
      ],
      "metadata": {
        "colab": {
          "base_uri": "https://localhost:8080/",
          "height": 49,
          "referenced_widgets": [
            "7d7e1353c8804ad88eb05f20a23e32c0",
            "59220c3e3ffe4dada078e56f3dc7d1bb",
            "fd9ec7c00f9a4c12979ce88a621e2d79"
          ]
        },
        "id": "QST52lhfz67b",
        "outputId": "bb5f2adb-5b43-47b2-df1f-8d5d217865a6"
      },
      "execution_count": 3,
      "outputs": [
        {
          "output_type": "display_data",
          "data": {
            "text/plain": [
              "Dropdown(description='Select a file:', options=('', 'pose_sample.yaml'), value='')"
            ],
            "application/vnd.jupyter.widget-view+json": {
              "version_major": 2,
              "version_minor": 0,
              "model_id": "7d7e1353c8804ad88eb05f20a23e32c0"
            }
          },
          "metadata": {}
        }
      ]
    },
    {
      "cell_type": "markdown",
      "source": [
        "# Run this cell below to confirm your selected pretrained model to be used for testing"
      ],
      "metadata": {
        "id": "8r_hFTNaDVof"
      }
    },
    {
      "cell_type": "code",
      "source": [
        "# Get the selected file name from the dropdown\n",
        "selected_model = model_dropdown.value\n",
        "\n",
        "# Check if the selected option is valid\n",
        "if selected_model == \"\":\n",
        "    raise ValueError(\"Invalid option selected. Please choose from the provided list.\")\n",
        "\n",
        "# Now 'selected_file' contains the selected file name as a string\n",
        "print(f\"Selected model: {selected_model}\")"
      ],
      "metadata": {
        "colab": {
          "base_uri": "https://localhost:8080/"
        },
        "id": "yULqyCC5DYzT",
        "outputId": "d242577a-517f-44ca-bb75-28d2818a6769"
      },
      "execution_count": 4,
      "outputs": [
        {
          "output_type": "stream",
          "name": "stdout",
          "text": [
            "Selected model: pose_sample.yaml\n"
          ]
        }
      ]
    },
    {
      "cell_type": "markdown",
      "source": [
        "# Select a dataset to be used for the testing"
      ],
      "metadata": {
        "id": "4L4FT7nsDbLp"
      }
    },
    {
      "cell_type": "code",
      "source": [
        "import os\n",
        "import ipywidgets as widgets\n",
        "from IPython.display import display\n",
        "\n",
        "# Function to list file names in a folder and store their paths in an array\n",
        "def list_file_names_and_paths(folder):\n",
        "    global file_paths\n",
        "    folder_path = os.path.join('/content/ict3104-team14-2023/input_videos', folder)\n",
        "    if os.path.isdir(folder_path):\n",
        "        file_paths = [os.path.join(folder_path, file) for file in os.listdir(folder_path)]\n",
        "        file_names = [os.path.basename(file) for file in file_paths]\n",
        "        print(f\"List of file names in '{folder}':\")\n",
        "        for file_name in file_names:\n",
        "            print(file_name)\n",
        "    else:\n",
        "        print(f\"'{folder}' is not a valid folder.\")\n",
        "\n",
        "# Create a dropdown widget with an empty default option\n",
        "folder_dropdown = widgets.Dropdown(\n",
        "    options=[''] + os.listdir('/content/ict3104-team14-2023/input_videos'),  # Include an empty option\n",
        "    description='Select a Folder:',\n",
        ")\n",
        "\n",
        "# Initialize the file_paths array\n",
        "file_paths = []\n",
        "\n",
        "# Define an event handler for the dropdown\n",
        "def on_dropdown_change(change):\n",
        "    selected_folder = change.new\n",
        "    list_file_names_and_paths(selected_folder)\n",
        "\n",
        "# Attach the event handler to the dropdown\n",
        "folder_dropdown.observe(on_dropdown_change, names='value')\n",
        "\n",
        "# Display the dropdown widget\n",
        "display(folder_dropdown)"
      ],
      "metadata": {
        "colab": {
          "base_uri": "https://localhost:8080/",
          "height": 267,
          "referenced_widgets": [
            "b3b613498ce145b3901006339b2ca3a6",
            "bda2e516bb3a45229d3ebbf582358840",
            "41d06952f58d4b4b9f0e881d3bd9de6a"
          ]
        },
        "id": "KOcw4I7bDi_A",
        "outputId": "109242bd-189a-4101-e6e0-54cc4fb3b246"
      },
      "execution_count": 5,
      "outputs": [
        {
          "output_type": "display_data",
          "data": {
            "text/plain": [
              "Dropdown(description='Select a Folder:', options=('', 'charades'), value='')"
            ],
            "application/vnd.jupyter.widget-view+json": {
              "version_major": 2,
              "version_minor": 0,
              "model_id": "b3b613498ce145b3901006339b2ca3a6"
            }
          },
          "metadata": {}
        },
        {
          "output_type": "stream",
          "name": "stdout",
          "text": [
            "List of file names in 'charades':\n",
            "52CKM.mp4\n",
            "3LMTS.mp4\n",
            "5D3X6.mp4\n",
            "5O0YS.mp4\n",
            "3JJ7C.mp4\n",
            "0RJKT.mp4\n",
            "4GLAP.mp4\n",
            "3IPI3.mp4\n",
            "5EFQ7.mp4\n",
            "8ASRQ.mp4\n",
            "2E8GU.mp4\n"
          ]
        }
      ]
    }
  ]
}